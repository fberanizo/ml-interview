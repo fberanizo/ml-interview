{
  "nbformat": 4,
  "nbformat_minor": 0,
  "metadata": {
    "colab": {
      "name": "Cópia de Case Study: Debugging in Regression.ipynb",
      "provenance": [],
      "collapsed_sections": [
        "vrr7QBAu_oeC",
        "Nm1xp9DjCejl",
        "uoUVsCIsYBVC",
        "eClRDcGVudk2"
      ]
    },
    "kernelspec": {
      "display_name": "Python 2",
      "name": "python2"
    }
  },
  "cells": [
    {
      "cell_type": "markdown",
      "metadata": {
        "id": "vrr7QBAu_oeC"
      },
      "source": [
        "#### Copyright 2018 Google LLC."
      ]
    },
    {
      "cell_type": "code",
      "metadata": {
        "cellView": "both",
        "id": "hMqWDc_m6rUC"
      },
      "source": [
        "# Licensed under the Apache License, Version 2.0 (the \"License\");\n",
        "# you may not use this file except in compliance with the License.\n",
        "# You may obtain a copy of the License at\n",
        "#\n",
        "# https://www.apache.org/licenses/LICENSE-2.0\n",
        "#\n",
        "# Unless required by applicable law or agreed to in writing, software\n",
        "# distributed under the License is distributed on an \"AS IS\" BASIS,\n",
        "# WITHOUT WARRANTIES OR CONDITIONS OF ANY KIND, either express or implied.\n",
        "# See the License for the specific language governing permissions and\n",
        "# limitations under the License."
      ],
      "execution_count": null,
      "outputs": []
    },
    {
      "cell_type": "markdown",
      "metadata": {
        "id": "iMDBCBXpyfjb"
      },
      "source": [
        "#  Case Study: Debugging in Regression\n",
        "\n",
        "In this Colab, you will learn how to debug a regression problem through a case study. You will:\n",
        "\n",
        "1. Set up the problem.\n",
        "2. Interpret the correlation matrix.\n",
        "3. Implement linear and nonlinear models.\n",
        "4. Compare and choose between linear and nonlinear models.\n",
        "5. Optimize your chosen model.\n",
        "6. Debug your chosen model.\n"
      ]
    },
    {
      "cell_type": "markdown",
      "metadata": {
        "id": "YO9VBlPg-gQi"
      },
      "source": [
        "# Setup\n",
        "\n",
        "This Colab uses the wine quality dataset<sup>[1]</sup>, which is hosted at [UCI](https://archive.ics.uci.edu/ml/datasets/wine+quality). This dataset contains data on the physicochemical properties of wine along with wine quality ratings. The problem is to predict wine quality (0-10) from physicochemical properties.\n",
        "\n",
        "Please **make a copy** of this Colab before running it. Click on *File*, and then click on *Save a copy in Drive*.\n",
        "\n",
        "<small>[1] Modeling wine preferences by data mining from physicochemical properties. P. Cortez, A. Cerdeira, F. Almeida, T. Matos and J. Reis. Decision Support Systems, Elsevier, 47(4):547-553, 2009.</small>"
      ]
    },
    {
      "cell_type": "markdown",
      "metadata": {
        "id": "TD2JCwZopqaP"
      },
      "source": [
        "Load libraries and data by running the next cell. Display the first few rows to verify that the dataset loaded correctly."
      ]
    },
    {
      "cell_type": "code",
      "metadata": {
        "cellView": "both",
        "id": "1tdRTwl6sN9A",
        "colab": {
          "base_uri": "https://localhost:8080/",
          "height": 204
        },
        "outputId": "2f5ebb68-db7b-4f86-c550-6ee53bb33a15"
      },
      "source": [
        "# Reset environment for a new run\n",
        "% reset -f\n",
        "\n",
        "# Load libraries\n",
        "from os.path import join # for joining file pathnames\n",
        "import pandas as pd\n",
        "import seaborn as sns\n",
        "import tensorflow as tf\n",
        "from tensorflow import keras\n",
        "import numpy as np\n",
        "import matplotlib.pyplot as plt\n",
        "\n",
        "# Set Pandas display options\n",
        "pd.options.display.max_rows = 10\n",
        "pd.options.display.float_format = '{:.1f}'.format\n",
        "\n",
        "wineDf = pd.read_csv(\n",
        "  \"https://download.mlcc.google.com/mledu-datasets/winequality.csv\",\n",
        "  encoding='latin-1')\n",
        "wineDf.columns = ['fixed acidity','volatile acidity','citric acid',\n",
        "                     'residual sugar','chlorides','free sulfur dioxide',\n",
        "                     'total sulfur dioxide','density','pH',\n",
        "                     'sulphates','alcohol','quality']\n",
        "wineDf.head()"
      ],
      "execution_count": 1,
      "outputs": [
        {
          "output_type": "execute_result",
          "data": {
            "text/plain": [
              "   fixed acidity  volatile acidity  citric acid  residual sugar  chlorides  \\\n",
              "0            7.0               0.3          0.4            20.7        0.0   \n",
              "1            6.3               0.3          0.3             1.6        0.0   \n",
              "2            8.1               0.3          0.4             6.9        0.1   \n",
              "3            7.2               0.2          0.3             8.5        0.1   \n",
              "4            7.2               0.2          0.3             8.5        0.1   \n",
              "\n",
              "   free sulfur dioxide  total sulfur dioxide  density  pH  sulphates  alcohol  \\\n",
              "0                 45.0                 170.0      1.0 3.0        0.5      8.8   \n",
              "1                 14.0                 132.0      1.0 3.3        0.5      9.5   \n",
              "2                 30.0                  97.0      1.0 3.3        0.4     10.1   \n",
              "3                 47.0                 186.0      1.0 3.2        0.4      9.9   \n",
              "4                 47.0                 186.0      1.0 3.2        0.4      9.9   \n",
              "\n",
              "   quality  \n",
              "0        6  \n",
              "1        6  \n",
              "2        6  \n",
              "3        6  \n",
              "4        6  "
            ],
            "text/html": [
              "<div>\n",
              "<style scoped>\n",
              "    .dataframe tbody tr th:only-of-type {\n",
              "        vertical-align: middle;\n",
              "    }\n",
              "\n",
              "    .dataframe tbody tr th {\n",
              "        vertical-align: top;\n",
              "    }\n",
              "\n",
              "    .dataframe thead th {\n",
              "        text-align: right;\n",
              "    }\n",
              "</style>\n",
              "<table border=\"1\" class=\"dataframe\">\n",
              "  <thead>\n",
              "    <tr style=\"text-align: right;\">\n",
              "      <th></th>\n",
              "      <th>fixed acidity</th>\n",
              "      <th>volatile acidity</th>\n",
              "      <th>citric acid</th>\n",
              "      <th>residual sugar</th>\n",
              "      <th>chlorides</th>\n",
              "      <th>free sulfur dioxide</th>\n",
              "      <th>total sulfur dioxide</th>\n",
              "      <th>density</th>\n",
              "      <th>pH</th>\n",
              "      <th>sulphates</th>\n",
              "      <th>alcohol</th>\n",
              "      <th>quality</th>\n",
              "    </tr>\n",
              "  </thead>\n",
              "  <tbody>\n",
              "    <tr>\n",
              "      <th>0</th>\n",
              "      <td>7.0</td>\n",
              "      <td>0.3</td>\n",
              "      <td>0.4</td>\n",
              "      <td>20.7</td>\n",
              "      <td>0.0</td>\n",
              "      <td>45.0</td>\n",
              "      <td>170.0</td>\n",
              "      <td>1.0</td>\n",
              "      <td>3.0</td>\n",
              "      <td>0.5</td>\n",
              "      <td>8.8</td>\n",
              "      <td>6</td>\n",
              "    </tr>\n",
              "    <tr>\n",
              "      <th>1</th>\n",
              "      <td>6.3</td>\n",
              "      <td>0.3</td>\n",
              "      <td>0.3</td>\n",
              "      <td>1.6</td>\n",
              "      <td>0.0</td>\n",
              "      <td>14.0</td>\n",
              "      <td>132.0</td>\n",
              "      <td>1.0</td>\n",
              "      <td>3.3</td>\n",
              "      <td>0.5</td>\n",
              "      <td>9.5</td>\n",
              "      <td>6</td>\n",
              "    </tr>\n",
              "    <tr>\n",
              "      <th>2</th>\n",
              "      <td>8.1</td>\n",
              "      <td>0.3</td>\n",
              "      <td>0.4</td>\n",
              "      <td>6.9</td>\n",
              "      <td>0.1</td>\n",
              "      <td>30.0</td>\n",
              "      <td>97.0</td>\n",
              "      <td>1.0</td>\n",
              "      <td>3.3</td>\n",
              "      <td>0.4</td>\n",
              "      <td>10.1</td>\n",
              "      <td>6</td>\n",
              "    </tr>\n",
              "    <tr>\n",
              "      <th>3</th>\n",
              "      <td>7.2</td>\n",
              "      <td>0.2</td>\n",
              "      <td>0.3</td>\n",
              "      <td>8.5</td>\n",
              "      <td>0.1</td>\n",
              "      <td>47.0</td>\n",
              "      <td>186.0</td>\n",
              "      <td>1.0</td>\n",
              "      <td>3.2</td>\n",
              "      <td>0.4</td>\n",
              "      <td>9.9</td>\n",
              "      <td>6</td>\n",
              "    </tr>\n",
              "    <tr>\n",
              "      <th>4</th>\n",
              "      <td>7.2</td>\n",
              "      <td>0.2</td>\n",
              "      <td>0.3</td>\n",
              "      <td>8.5</td>\n",
              "      <td>0.1</td>\n",
              "      <td>47.0</td>\n",
              "      <td>186.0</td>\n",
              "      <td>1.0</td>\n",
              "      <td>3.2</td>\n",
              "      <td>0.4</td>\n",
              "      <td>9.9</td>\n",
              "      <td>6</td>\n",
              "    </tr>\n",
              "  </tbody>\n",
              "</table>\n",
              "</div>"
            ]
          },
          "metadata": {},
          "execution_count": 1
        }
      ]
    },
    {
      "cell_type": "markdown",
      "metadata": {
        "id": "FKNBH65pM8q9"
      },
      "source": [
        "# Check Correlation Matrix"
      ]
    },
    {
      "cell_type": "markdown",
      "metadata": {
        "id": "6mfGqkcgSHYC"
      },
      "source": [
        "Before developing your ML model, you need to select features. To find informative features, check the correlation matrix by running the following cell. Which features are informative?"
      ]
    },
    {
      "cell_type": "code",
      "metadata": {
        "id": "HX36srdIthHj",
        "colab": {
          "base_uri": "https://localhost:8080/",
          "height": 696
        },
        "outputId": "e6db16f2-d1ec-4afe-de66-6ed97a5cf18f"
      },
      "source": [
        "corr_wineDf = wineDf.corr()\n",
        "plt.figure(figsize=(16,10))\n",
        "sns.heatmap(corr_wineDf, annot=True)"
      ],
      "execution_count": 2,
      "outputs": [
        {
          "output_type": "execute_result",
          "data": {
            "text/plain": [
              "<matplotlib.axes._subplots.AxesSubplot at 0x7f7ed1212950>"
            ]
          },
          "metadata": {},
          "execution_count": 2
        },
        {
          "output_type": "display_data",
          "data": {
            "image/png": "[encoded data removed]",
            "text/plain": [
              "<Figure size 1152x720 with 2 Axes>"
            ]
          },
          "metadata": {
            "needs_background": "light"
          }
        }
      ]
    },
    {
      "cell_type": "markdown",
      "metadata": {
        "id": "DqM4CCQJ4d7N"
      },
      "source": [
        "`alcohol` is most highly correlated with `quality`. Looking for other informative features, notice that `volatile acidity` correlates with `quality` but not with `alcohol`, making it a good second feature. Remember that a correlation matrix is not helpful if predictive signals are encoded in combinations of features."
      ]
    },
    {
      "cell_type": "markdown",
      "metadata": {
        "id": "l6IsKBBard07"
      },
      "source": [
        "# Validate Input Data against Data Schema"
      ]
    },
    {
      "cell_type": "markdown",
      "metadata": {
        "id": "5QBbI6SBrg1k"
      },
      "source": [
        "Before processing your data, you should validate the data against a data schema as described in [Data and Feature Debugging](https://developers.google.com/machine-learning/testing-debugging/common/data-errors).\n",
        "\n",
        "First, define a function that validates data against a schema."
      ]
    },
    {
      "cell_type": "code",
      "metadata": {
        "id": "NpLYlvpQsHoD"
      },
      "source": [
        "#@title Define function to validate data\n",
        "\n",
        "def test_data_schema(input_data, schema):\n",
        "  \"\"\"Tests that the datatypes and ranges of values in the dataset\n",
        "    adhere to expectations.\n",
        "\n",
        "    Args:\n",
        "      input_function: Dataframe containing data to test\n",
        "      schema: Schema which describes the properties of the data.\n",
        "  \"\"\"\n",
        "\n",
        "  def test_dtypes():\n",
        "    for column in schema.keys():\n",
        "      assert input_data[column].map(type).eq(\n",
        "          schema[column]['dtype']).all(), (\n",
        "          \"Incorrect dtype in column '%s'.\" % column\n",
        "      )\n",
        "    print('Input dtypes are correct.')\n",
        "\n",
        "  def test_ranges():\n",
        "    for column in schema.keys():\n",
        "      schema_max = schema[column]['range']['max']\n",
        "      schema_min = schema[column]['range']['min']\n",
        "      # Assert that data falls between schema min and max.\n",
        "      assert input_data[column].max() <= schema_max, (\n",
        "          \"Maximum value of column '%s' is too low.\" % column\n",
        "      )\n",
        "      assert input_data[column].min() >= schema_min, (\n",
        "          \"Minimum value of column '%s' is too high.\" % column\n",
        "      )\n",
        "    print('Data falls within specified ranges.')\n",
        "\n",
        "  test_dtypes()\n",
        "  test_ranges()"
      ],
      "execution_count": 3,
      "outputs": []
    },
    {
      "cell_type": "markdown",
      "metadata": {
        "id": "z6Frne4HTspm"
      },
      "source": [
        "To define your schema, you need to understand the statistical properties of your dataset. Generate statistics on your dataset by running the following code cell:"
      ]
    },
    {
      "cell_type": "code",
      "metadata": {
        "id": "WT4dm-ALr-gD",
        "colab": {
          "base_uri": "https://localhost:8080/",
          "height": 297
        },
        "outputId": "25739efc-b779-424c-cb37-3a1766e8a9c4"
      },
      "source": [
        "pd.set_option('display.float_format', lambda x: '%.5f' % x)\n",
        "wineDf.describe()"
      ],
      "execution_count": 7,
      "outputs": [
        {
          "output_type": "execute_result",
          "data": {
            "text/plain": [
              "       fixed acidity  volatile acidity  citric acid  residual sugar  \\\n",
              "count     6497.00000        6497.00000   6497.00000      6497.00000   \n",
              "mean         7.21531           0.33967      0.31863         5.44324   \n",
              "std          1.29643           0.16464      0.14532         4.75780   \n",
              "min          3.80000           0.08000      0.00000         0.60000   \n",
              "25%          6.40000           0.23000      0.25000         1.80000   \n",
              "50%          7.00000           0.29000      0.31000         3.00000   \n",
              "75%          7.70000           0.40000      0.39000         8.10000   \n",
              "max         15.90000           1.58000      1.66000        65.80000   \n",
              "\n",
              "       chlorides  free sulfur dioxide  total sulfur dioxide    density  \\\n",
              "count 6497.00000           6497.00000            6497.00000 6497.00000   \n",
              "mean     0.05603             30.52532             115.74457    0.99470   \n",
              "std      0.03503             17.74940              56.52185    0.00300   \n",
              "min      0.00900              1.00000               6.00000    0.98711   \n",
              "25%      0.03800             17.00000              77.00000    0.99234   \n",
              "50%      0.04700             29.00000             118.00000    0.99489   \n",
              "75%      0.06500             41.00000             156.00000    0.99699   \n",
              "max      0.61100            289.00000             440.00000    1.03898   \n",
              "\n",
              "              pH  sulphates    alcohol    quality  \n",
              "count 6497.00000 6497.00000 6497.00000 6497.00000  \n",
              "mean     3.21850    0.53127   10.49180    5.81838  \n",
              "std      0.16079    0.14881    1.19271    0.87326  \n",
              "min      2.72000    0.22000    8.00000    3.00000  \n",
              "25%      3.11000    0.43000    9.50000    5.00000  \n",
              "50%      3.21000    0.51000   10.30000    6.00000  \n",
              "75%      3.32000    0.60000   11.30000    6.00000  \n",
              "max      4.01000    2.00000   14.90000    9.00000  "
            ],
            "text/html": [
              "<div>\n",
              "<style scoped>\n",
              "    .dataframe tbody tr th:only-of-type {\n",
              "        vertical-align: middle;\n",
              "    }\n",
              "\n",
              "    .dataframe tbody tr th {\n",
              "        vertical-align: top;\n",
              "    }\n",
              "\n",
              "    .dataframe thead th {\n",
              "        text-align: right;\n",
              "    }\n",
              "</style>\n",
              "<table border=\"1\" class=\"dataframe\">\n",
              "  <thead>\n",
              "    <tr style=\"text-align: right;\">\n",
              "      <th></th>\n",
              "      <th>fixed acidity</th>\n",
              "      <th>volatile acidity</th>\n",
              "      <th>citric acid</th>\n",
              "      <th>residual sugar</th>\n",
              "      <th>chlorides</th>\n",
              "      <th>free sulfur dioxide</th>\n",
              "      <th>total sulfur dioxide</th>\n",
              "      <th>density</th>\n",
              "      <th>pH</th>\n",
              "      <th>sulphates</th>\n",
              "      <th>alcohol</th>\n",
              "      <th>quality</th>\n",
              "    </tr>\n",
              "  </thead>\n",
              "  <tbody>\n",
              "    <tr>\n",
              "      <th>count</th>\n",
              "      <td>6497.00000</td>\n",
              "      <td>6497.00000</td>\n",
              "      <td>6497.00000</td>\n",
              "      <td>6497.00000</td>\n",
              "      <td>6497.00000</td>\n",
              "      <td>6497.00000</td>\n",
              "      <td>6497.00000</td>\n",
              "      <td>6497.00000</td>\n",
              "      <td>6497.00000</td>\n",
              "      <td>6497.00000</td>\n",
              "      <td>6497.00000</td>\n",
              "      <td>6497.00000</td>\n",
              "    </tr>\n",
              "    <tr>\n",
              "      <th>mean</th>\n",
              "      <td>7.21531</td>\n",
              "      <td>0.33967</td>\n",
              "      <td>0.31863</td>\n",
              "      <td>5.44324</td>\n",
              "      <td>0.05603</td>\n",
              "      <td>30.52532</td>\n",
              "      <td>115.74457</td>\n",
              "      <td>0.99470</td>\n",
              "      <td>3.21850</td>\n",
              "      <td>0.53127</td>\n",
              "      <td>10.49180</td>\n",
              "      <td>5.81838</td>\n",
              "    </tr>\n",
              "    <tr>\n",
              "      <th>std</th>\n",
              "      <td>1.29643</td>\n",
              "      <td>0.16464</td>\n",
              "      <td>0.14532</td>\n",
              "      <td>4.75780</td>\n",
              "      <td>0.03503</td>\n",
              "      <td>17.74940</td>\n",
              "      <td>56.52185</td>\n",
              "      <td>0.00300</td>\n",
              "      <td>0.16079</td>\n",
              "      <td>0.14881</td>\n",
              "      <td>1.19271</td>\n",
              "      <td>0.87326</td>\n",
              "    </tr>\n",
              "    <tr>\n",
              "      <th>min</th>\n",
              "      <td>3.80000</td>\n",
              "      <td>0.08000</td>\n",
              "      <td>0.00000</td>\n",
              "      <td>0.60000</td>\n",
              "      <td>0.00900</td>\n",
              "      <td>1.00000</td>\n",
              "      <td>6.00000</td>\n",
              "      <td>0.98711</td>\n",
              "      <td>2.72000</td>\n",
              "      <td>0.22000</td>\n",
              "      <td>8.00000</td>\n",
              "      <td>3.00000</td>\n",
              "    </tr>\n",
              "    <tr>\n",
              "      <th>25%</th>\n",
              "      <td>6.40000</td>\n",
              "      <td>0.23000</td>\n",
              "      <td>0.25000</td>\n",
              "      <td>1.80000</td>\n",
              "      <td>0.03800</td>\n",
              "      <td>17.00000</td>\n",
              "      <td>77.00000</td>\n",
              "      <td>0.99234</td>\n",
              "      <td>3.11000</td>\n",
              "      <td>0.43000</td>\n",
              "      <td>9.50000</td>\n",
              "      <td>5.00000</td>\n",
              "    </tr>\n",
              "    <tr>\n",
              "      <th>50%</th>\n",
              "      <td>7.00000</td>\n",
              "      <td>0.29000</td>\n",
              "      <td>0.31000</td>\n",
              "      <td>3.00000</td>\n",
              "      <td>0.04700</td>\n",
              "      <td>29.00000</td>\n",
              "      <td>118.00000</td>\n",
              "      <td>0.99489</td>\n",
              "      <td>3.21000</td>\n",
              "      <td>0.51000</td>\n",
              "      <td>10.30000</td>\n",
              "      <td>6.00000</td>\n",
              "    </tr>\n",
              "    <tr>\n",
              "      <th>75%</th>\n",
              "      <td>7.70000</td>\n",
              "      <td>0.40000</td>\n",
              "      <td>0.39000</td>\n",
              "      <td>8.10000</td>\n",
              "      <td>0.06500</td>\n",
              "      <td>41.00000</td>\n",
              "      <td>156.00000</td>\n",
              "      <td>0.99699</td>\n",
              "      <td>3.32000</td>\n",
              "      <td>0.60000</td>\n",
              "      <td>11.30000</td>\n",
              "      <td>6.00000</td>\n",
              "    </tr>\n",
              "    <tr>\n",
              "      <th>max</th>\n",
              "      <td>15.90000</td>\n",
              "      <td>1.58000</td>\n",
              "      <td>1.66000</td>\n",
              "      <td>65.80000</td>\n",
              "      <td>0.61100</td>\n",
              "      <td>289.00000</td>\n",
              "      <td>440.00000</td>\n",
              "      <td>1.03898</td>\n",
              "      <td>4.01000</td>\n",
              "      <td>2.00000</td>\n",
              "      <td>14.90000</td>\n",
              "      <td>9.00000</td>\n",
              "    </tr>\n",
              "  </tbody>\n",
              "</table>\n",
              "</div>"
            ]
          },
          "metadata": {},
          "execution_count": 7
        }
      ]
    },
    {
      "cell_type": "markdown",
      "metadata": {
        "id": "6rSPgXENscc8"
      },
      "source": [
        "Using the statistics generated above, define the data schema in the following code cell. For demonstration purposes, restrict your data schema to the first three data columns. For each data column, enter the:\n",
        "\n",
        " * minimum value\n",
        " * maximum value\n",
        " * data type\n",
        "\n",
        "As an example, the values for the first column are filled out. After entering the values, run the code cell to confirm that your input data matches the schema."
      ]
    },
    {
      "cell_type": "code",
      "metadata": {
        "id": "YQ5CUFlsshm8",
        "colab": {
          "base_uri": "https://localhost:8080/"
        },
        "outputId": "8cf26aad-2e3c-4670-d9e5-6bcaad0670e8"
      },
      "source": [
        "wine_schema = {\n",
        "    'fixed acidity': {\n",
        "        'range': {\n",
        "            'min': 3.8,\n",
        "            'max': 15.9\n",
        "        },\n",
        "        'dtype': float,\n",
        "    },\n",
        "    'volatile acidity': {\n",
        "        'range': {\n",
        "            'min': 0.08, # describe() rounds up this value, be careful\n",
        "            'max': 1.6\n",
        "        },\n",
        "        'dtype': float,\n",
        "    },\n",
        "    'citric acid': {\n",
        "        'range': {\n",
        "            'min': 0.0,\n",
        "            'max': 1.7\n",
        "        },\n",
        "        'dtype': float,\n",
        "    }\n",
        "}\n",
        "\n",
        "print('Validating wine data against data schema...')\n",
        "test_data_schema(wineDf, wine_schema)"
      ],
      "execution_count": 8,
      "outputs": [
        {
          "output_type": "stream",
          "name": "stdout",
          "text": [
            "Validating wine data against data schema...\n",
            "Input dtypes are correct.\n",
            "Data falls within specified ranges.\n"
          ]
        }
      ]
    },
    {
      "cell_type": "markdown",
      "metadata": {
        "id": "fko5u9Y3hiKW"
      },
      "source": [
        "## Solution"
      ]
    },
    {
      "cell_type": "code",
      "metadata": {
        "id": "L_fiqb-whjWu",
        "colab": {
          "base_uri": "https://localhost:8080/"
        },
        "outputId": "e5996220-3f97-4d27-9b9a-42b8cd1ba9df"
      },
      "source": [
        "wine_schema = {\n",
        "    'fixed acidity': {\n",
        "        'range': {\n",
        "            'min': 3.7,\n",
        "            'max': 15.9\n",
        "        },\n",
        "        'dtype': float,\n",
        "    },\n",
        "    'volatile acidity': {\n",
        "        'range': {\n",
        "            'min': 0.08,  # minimum value\n",
        "            'max': 1.6   # maximum value\n",
        "        },\n",
        "        'dtype': float,    # data type\n",
        "    },\n",
        "    'citric acid': {\n",
        "        'range': {\n",
        "            'min': 0.0, # minimum value\n",
        "            'max': 1.7  # maximum value\n",
        "        },\n",
        "        'dtype': float,   # data type\n",
        "    }\n",
        "}\n",
        "\n",
        "print('Validating wine data against data schema...')\n",
        "test_data_schema(wineDf, wine_schema)"
      ],
      "execution_count": 9,
      "outputs": [
        {
          "output_type": "stream",
          "name": "stdout",
          "text": [
            "Validating wine data against data schema...\n",
            "Input dtypes are correct.\n",
            "Data falls within specified ranges.\n"
          ]
        }
      ]
    },
    {
      "cell_type": "markdown",
      "metadata": {
        "id": "Ks-c6qeRNDbN"
      },
      "source": [
        "# Split and Normalize Data"
      ]
    },
    {
      "cell_type": "markdown",
      "metadata": {
        "id": "iqz_CWW-1nuC"
      },
      "source": [
        "Split the dataset into data and labels."
      ]
    },
    {
      "cell_type": "code",
      "metadata": {
        "id": "BstIdTwr2A8J"
      },
      "source": [
        "wineFeatures = wineDf.copy(deep=True)\n",
        "wineFeatures.drop(columns='quality',inplace=True)\n",
        "wineLabels = wineDf['quality'].copy(deep=True)"
      ],
      "execution_count": 10,
      "outputs": []
    },
    {
      "cell_type": "markdown",
      "metadata": {
        "id": "zV8hRjJHNJcd"
      },
      "source": [
        "Normalize data using z-score."
      ]
    },
    {
      "cell_type": "code",
      "metadata": {
        "id": "8eWEEY2N8jvM"
      },
      "source": [
        "def normalizeData(arr):\n",
        "  stdArr = np.std(arr)\n",
        "  meanArr = np.mean(arr)\n",
        "  arr = (arr-meanArr)/stdArr\n",
        "  return arr\n",
        "\n",
        "for str1 in wineFeatures.columns:\n",
        "   wineFeatures[str1] = normalizeData(wineFeatures[str1])"
      ],
      "execution_count": 11,
      "outputs": []
    },
    {
      "cell_type": "markdown",
      "metadata": {
        "id": "FRYctLRsxoKQ"
      },
      "source": [
        "# Test Engineered Data"
      ]
    },
    {
      "cell_type": "markdown",
      "metadata": {
        "id": "O9FmtMP7xyfW"
      },
      "source": [
        "After normalizing your data, you should test your engineered data for errors as described in [Data and Feature Debugging](https://developers.google.com/machine-learning/testing-debugging/common/data-errors). In this section, you will test that engineering data:\n",
        "\n",
        "* Has the expected number of rows and columns.\n",
        "* Does not have null values.\n",
        "\n",
        "First, set up the testing functions by running the following code cell:\n"
      ]
    },
    {
      "cell_type": "code",
      "metadata": {
        "cellView": "both",
        "id": "OCkV2ti1ygqe"
      },
      "source": [
        "import unittest\n",
        "\n",
        "def test_input_dim(df, n_rows, n_columns):\n",
        "  assert len(df) == n_rows, \"Unexpected number of rows.\"\n",
        "  assert len(df.columns) == n_columns, \"Unexpected number of columns.\"\n",
        "  print('Engineered data has the expected number of rows and columns.')\n",
        "\n",
        "def test_nulls(df):\n",
        "  dataNulls = df.isnull().sum().sum()\n",
        "  assert dataNulls == 0, \"Nulls in engineered data.\"\n",
        "  print('Engineered features do not contain nulls.')"
      ],
      "execution_count": 12,
      "outputs": []
    },
    {
      "cell_type": "markdown",
      "metadata": {
        "id": "TrCc2NAE4J5A"
      },
      "source": [
        "Your input data had 6497 examples and 11 feature columns. Test whether your engineered data has the expected number of rows and columns by running the following cell. Confirm that the test fails if you change the values below."
      ]
    },
    {
      "cell_type": "code",
      "metadata": {
        "cellView": "form",
        "id": "97BqVwqx4JKQ",
        "colab": {
          "base_uri": "https://localhost:8080/"
        },
        "outputId": "5a6bc4c0-1c17-46d1-d5ee-3c36a6d6531e"
      },
      "source": [
        "#@title Test dimensions of engineered data\n",
        "wine_feature_rows = 6497 #@param\n",
        "wine_feature_cols = 11 #@param\n",
        "test_input_dim(wineFeatures,\n",
        "               wine_feature_rows,\n",
        "               wine_feature_cols)"
      ],
      "execution_count": 13,
      "outputs": [
        {
          "output_type": "stream",
          "name": "stdout",
          "text": [
            "Engineered data has the expected number of rows and columns.\n"
          ]
        }
      ]
    },
    {
      "cell_type": "markdown",
      "metadata": {
        "id": "Gb7CxKrN5PDq"
      },
      "source": [
        "Test that your engineered data does not contain nulls by running the code below."
      ]
    },
    {
      "cell_type": "code",
      "metadata": {
        "id": "Gg3krAmq4aBf",
        "colab": {
          "base_uri": "https://localhost:8080/"
        },
        "outputId": "f8d8d10c-8be8-4acf-8439-25722d3875f3"
      },
      "source": [
        "test_nulls(wineFeatures)"
      ],
      "execution_count": 14,
      "outputs": [
        {
          "output_type": "stream",
          "name": "stdout",
          "text": [
            "Engineered features do not contain nulls.\n"
          ]
        }
      ]
    },
    {
      "cell_type": "markdown",
      "metadata": {
        "id": "eaU8hlK-rzbc"
      },
      "source": [
        "# Check Splits for Statistical Equivalence\n",
        "\n",
        "As described in the [Data Debugging](https://developers.google.com/machine-learning/testing-debugging/common/data-errors) guidelines, before developing your model, you should check that your training and validation splits are equally representative. Assuming a training:validation split of 80:20, compare the mean and the standard deviation of the splits by running the next two code cells. Note that this comparison is not a rigorous test for statistical equivalence but simply a quick and dirty comparison of the splits."
      ]
    },
    {
      "cell_type": "code",
      "metadata": {
        "id": "GBeiaCDUshkS",
        "colab": {
          "base_uri": "https://localhost:8080/",
          "height": 297
        },
        "outputId": "57dd9698-274e-4578-dcd5-2eeb194ae3b4"
      },
      "source": [
        "splitIdx = wineFeatures.shape[0]*8/10\n",
        "wineFeatures.iloc[0:splitIdx,:].describe()"
      ],
      "execution_count": 18,
      "outputs": [
        {
          "output_type": "execute_result",
          "data": {
            "text/plain": [
              "       fixed acidity  volatile acidity  citric acid  residual sugar  \\\n",
              "count     5197.00000        5197.00000   5197.00000      5197.00000   \n",
              "mean         7.20303           0.34030      0.31894         5.45945   \n",
              "std          1.29023           0.16606      0.14564         4.75276   \n",
              "min          3.80000           0.08000      0.00000         0.60000   \n",
              "25%          6.40000           0.23000      0.25000         1.80000   \n",
              "50%          7.00000           0.29000      0.31000         3.10000   \n",
              "75%          7.60000           0.40000      0.39000         8.10000   \n",
              "max         15.60000           1.58000      1.66000        65.80000   \n",
              "\n",
              "       chlorides  free sulfur dioxide  total sulfur dioxide    density  \\\n",
              "count 5197.00000           5197.00000            5197.00000 5197.00000   \n",
              "mean     0.05614             30.52646             115.83048    0.99468   \n",
              "std      0.03564             17.72568              56.35106    0.00300   \n",
              "min      0.00900              1.00000               6.00000    0.98711   \n",
              "25%      0.03800             17.00000              77.00000    0.99230   \n",
              "50%      0.04700             29.00000             119.00000    0.99484   \n",
              "75%      0.06500             41.00000             156.00000    0.99696   \n",
              "max      0.61100            289.00000             440.00000    1.03898   \n",
              "\n",
              "              pH  sulphates    alcohol  \n",
              "count 5197.00000 5197.00000 5197.00000  \n",
              "mean     3.21962    0.53143   10.50383  \n",
              "std      0.16092    0.14926    1.19708  \n",
              "min      2.72000    0.22000    8.00000  \n",
              "25%      3.11000    0.43000    9.50000  \n",
              "50%      3.21000    0.51000   10.30000  \n",
              "75%      3.32000    0.60000   11.30000  \n",
              "max      4.01000    2.00000   14.20000  "
            ],
            "text/html": [
              "<div>\n",
              "<style scoped>\n",
              "    .dataframe tbody tr th:only-of-type {\n",
              "        vertical-align: middle;\n",
              "    }\n",
              "\n",
              "    .dataframe tbody tr th {\n",
              "        vertical-align: top;\n",
              "    }\n",
              "\n",
              "    .dataframe thead th {\n",
              "        text-align: right;\n",
              "    }\n",
              "</style>\n",
              "<table border=\"1\" class=\"dataframe\">\n",
              "  <thead>\n",
              "    <tr style=\"text-align: right;\">\n",
              "      <th></th>\n",
              "      <th>fixed acidity</th>\n",
              "      <th>volatile acidity</th>\n",
              "      <th>citric acid</th>\n",
              "      <th>residual sugar</th>\n",
              "      <th>chlorides</th>\n",
              "      <th>free sulfur dioxide</th>\n",
              "      <th>total sulfur dioxide</th>\n",
              "      <th>density</th>\n",
              "      <th>pH</th>\n",
              "      <th>sulphates</th>\n",
              "      <th>alcohol</th>\n",
              "    </tr>\n",
              "  </thead>\n",
              "  <tbody>\n",
              "    <tr>\n",
              "      <th>count</th>\n",
              "      <td>5197.00000</td>\n",
              "      <td>5197.00000</td>\n",
              "      <td>5197.00000</td>\n",
              "      <td>5197.00000</td>\n",
              "      <td>5197.00000</td>\n",
              "      <td>5197.00000</td>\n",
              "      <td>5197.00000</td>\n",
              "      <td>5197.00000</td>\n",
              "      <td>5197.00000</td>\n",
              "      <td>5197.00000</td>\n",
              "      <td>5197.00000</td>\n",
              "    </tr>\n",
              "    <tr>\n",
              "      <th>mean</th>\n",
              "      <td>7.20303</td>\n",
              "      <td>0.34030</td>\n",
              "      <td>0.31894</td>\n",
              "      <td>5.45945</td>\n",
              "      <td>0.05614</td>\n",
              "      <td>30.52646</td>\n",
              "      <td>115.83048</td>\n",
              "      <td>0.99468</td>\n",
              "      <td>3.21962</td>\n",
              "      <td>0.53143</td>\n",
              "      <td>10.50383</td>\n",
              "    </tr>\n",
              "    <tr>\n",
              "      <th>std</th>\n",
              "      <td>1.29023</td>\n",
              "      <td>0.16606</td>\n",
              "      <td>0.14564</td>\n",
              "      <td>4.75276</td>\n",
              "      <td>0.03564</td>\n",
              "      <td>17.72568</td>\n",
              "      <td>56.35106</td>\n",
              "      <td>0.00300</td>\n",
              "      <td>0.16092</td>\n",
              "      <td>0.14926</td>\n",
              "      <td>1.19708</td>\n",
              "    </tr>\n",
              "    <tr>\n",
              "      <th>min</th>\n",
              "      <td>3.80000</td>\n",
              "      <td>0.08000</td>\n",
              "      <td>0.00000</td>\n",
              "      <td>0.60000</td>\n",
              "      <td>0.00900</td>\n",
              "      <td>1.00000</td>\n",
              "      <td>6.00000</td>\n",
              "      <td>0.98711</td>\n",
              "      <td>2.72000</td>\n",
              "      <td>0.22000</td>\n",
              "      <td>8.00000</td>\n",
              "    </tr>\n",
              "    <tr>\n",
              "      <th>25%</th>\n",
              "      <td>6.40000</td>\n",
              "      <td>0.23000</td>\n",
              "      <td>0.25000</td>\n",
              "      <td>1.80000</td>\n",
              "      <td>0.03800</td>\n",
              "      <td>17.00000</td>\n",
              "      <td>77.00000</td>\n",
              "      <td>0.99230</td>\n",
              "      <td>3.11000</td>\n",
              "      <td>0.43000</td>\n",
              "      <td>9.50000</td>\n",
              "    </tr>\n",
              "    <tr>\n",
              "      <th>50%</th>\n",
              "      <td>7.00000</td>\n",
              "      <td>0.29000</td>\n",
              "      <td>0.31000</td>\n",
              "      <td>3.10000</td>\n",
              "      <td>0.04700</td>\n",
              "      <td>29.00000</td>\n",
              "      <td>119.00000</td>\n",
              "      <td>0.99484</td>\n",
              "      <td>3.21000</td>\n",
              "      <td>0.51000</td>\n",
              "      <td>10.30000</td>\n",
              "    </tr>\n",
              "    <tr>\n",
              "      <th>75%</th>\n",
              "      <td>7.60000</td>\n",
              "      <td>0.40000</td>\n",
              "      <td>0.39000</td>\n",
              "      <td>8.10000</td>\n",
              "      <td>0.06500</td>\n",
              "      <td>41.00000</td>\n",
              "      <td>156.00000</td>\n",
              "      <td>0.99696</td>\n",
              "      <td>3.32000</td>\n",
              "      <td>0.60000</td>\n",
              "      <td>11.30000</td>\n",
              "    </tr>\n",
              "    <tr>\n",
              "      <th>max</th>\n",
              "      <td>15.60000</td>\n",
              "      <td>1.58000</td>\n",
              "      <td>1.66000</td>\n",
              "      <td>65.80000</td>\n",
              "      <td>0.61100</td>\n",
              "      <td>289.00000</td>\n",
              "      <td>440.00000</td>\n",
              "      <td>1.03898</td>\n",
              "      <td>4.01000</td>\n",
              "      <td>2.00000</td>\n",
              "      <td>14.20000</td>\n",
              "    </tr>\n",
              "  </tbody>\n",
              "</table>\n",
              "</div>"
            ]
          },
          "metadata": {},
          "execution_count": 18
        }
      ]
    },
    {
      "cell_type": "code",
      "metadata": {
        "id": "BvG69ze-uS2g",
        "colab": {
          "base_uri": "https://localhost:8080/",
          "height": 297
        },
        "outputId": "3a90e9dc-fa45-410b-b2f0-469484fa9a39"
      },
      "source": [
        "wineFeatures.iloc[splitIdx:-1,:].describe()"
      ],
      "execution_count": 19,
      "outputs": [
        {
          "output_type": "execute_result",
          "data": {
            "text/plain": [
              "       fixed acidity  volatile acidity  citric acid  residual sugar  \\\n",
              "count     1299.00000        1299.00000   1299.00000      1299.00000   \n",
              "mean         7.26574           0.33712      0.31742         5.38064   \n",
              "std          1.31992           0.15893      0.14414         4.78038   \n",
              "min          4.20000           0.08000      0.00000         0.70000   \n",
              "25%          6.40000           0.23000      0.24000         1.80000   \n",
              "50%          7.00000           0.29000      0.31000         2.80000   \n",
              "75%          7.80000           0.40000      0.39000         8.00000   \n",
              "max         15.90000           1.33000      1.00000        31.60000   \n",
              "\n",
              "       chlorides  free sulfur dioxide  total sulfur dioxide    density  \\\n",
              "count 1299.00000           1299.00000            1299.00000 1299.00000   \n",
              "mean     0.05559             30.52348             115.39145    0.99475   \n",
              "std      0.03254             17.85737              57.24110    0.00298   \n",
              "min      0.01400              3.00000               7.00000    0.98746   \n",
              "25%      0.03800             17.00000              78.00000    0.99240   \n",
              "50%      0.04700             29.00000             116.00000    0.99500   \n",
              "75%      0.06700             41.50000             155.00000    0.99700   \n",
              "max      0.46700            146.50000             307.50000    1.01030   \n",
              "\n",
              "              pH  sulphates    alcohol  \n",
              "count 1299.00000 1299.00000 1299.00000  \n",
              "mean     3.21410    0.53062   10.44435  \n",
              "std      0.16029    0.14710    1.17452  \n",
              "min      2.74000    0.25000    8.00000  \n",
              "25%      3.10000    0.43000    9.50000  \n",
              "50%      3.21000    0.50000   10.20000  \n",
              "75%      3.32000    0.60000   11.30000  \n",
              "max      3.78000    1.56000   14.90000  "
            ],
            "text/html": [
              "<div>\n",
              "<style scoped>\n",
              "    .dataframe tbody tr th:only-of-type {\n",
              "        vertical-align: middle;\n",
              "    }\n",
              "\n",
              "    .dataframe tbody tr th {\n",
              "        vertical-align: top;\n",
              "    }\n",
              "\n",
              "    .dataframe thead th {\n",
              "        text-align: right;\n",
              "    }\n",
              "</style>\n",
              "<table border=\"1\" class=\"dataframe\">\n",
              "  <thead>\n",
              "    <tr style=\"text-align: right;\">\n",
              "      <th></th>\n",
              "      <th>fixed acidity</th>\n",
              "      <th>volatile acidity</th>\n",
              "      <th>citric acid</th>\n",
              "      <th>residual sugar</th>\n",
              "      <th>chlorides</th>\n",
              "      <th>free sulfur dioxide</th>\n",
              "      <th>total sulfur dioxide</th>\n",
              "      <th>density</th>\n",
              "      <th>pH</th>\n",
              "      <th>sulphates</th>\n",
              "      <th>alcohol</th>\n",
              "    </tr>\n",
              "  </thead>\n",
              "  <tbody>\n",
              "    <tr>\n",
              "      <th>count</th>\n",
              "      <td>1299.00000</td>\n",
              "      <td>1299.00000</td>\n",
              "      <td>1299.00000</td>\n",
              "      <td>1299.00000</td>\n",
              "      <td>1299.00000</td>\n",
              "      <td>1299.00000</td>\n",
              "      <td>1299.00000</td>\n",
              "      <td>1299.00000</td>\n",
              "      <td>1299.00000</td>\n",
              "      <td>1299.00000</td>\n",
              "      <td>1299.00000</td>\n",
              "    </tr>\n",
              "    <tr>\n",
              "      <th>mean</th>\n",
              "      <td>7.26574</td>\n",
              "      <td>0.33712</td>\n",
              "      <td>0.31742</td>\n",
              "      <td>5.38064</td>\n",
              "      <td>0.05559</td>\n",
              "      <td>30.52348</td>\n",
              "      <td>115.39145</td>\n",
              "      <td>0.99475</td>\n",
              "      <td>3.21410</td>\n",
              "      <td>0.53062</td>\n",
              "      <td>10.44435</td>\n",
              "    </tr>\n",
              "    <tr>\n",
              "      <th>std</th>\n",
              "      <td>1.31992</td>\n",
              "      <td>0.15893</td>\n",
              "      <td>0.14414</td>\n",
              "      <td>4.78038</td>\n",
              "      <td>0.03254</td>\n",
              "      <td>17.85737</td>\n",
              "      <td>57.24110</td>\n",
              "      <td>0.00298</td>\n",
              "      <td>0.16029</td>\n",
              "      <td>0.14710</td>\n",
              "      <td>1.17452</td>\n",
              "    </tr>\n",
              "    <tr>\n",
              "      <th>min</th>\n",
              "      <td>4.20000</td>\n",
              "      <td>0.08000</td>\n",
              "      <td>0.00000</td>\n",
              "      <td>0.70000</td>\n",
              "      <td>0.01400</td>\n",
              "      <td>3.00000</td>\n",
              "      <td>7.00000</td>\n",
              "      <td>0.98746</td>\n",
              "      <td>2.74000</td>\n",
              "      <td>0.25000</td>\n",
              "      <td>8.00000</td>\n",
              "    </tr>\n",
              "    <tr>\n",
              "      <th>25%</th>\n",
              "      <td>6.40000</td>\n",
              "      <td>0.23000</td>\n",
              "      <td>0.24000</td>\n",
              "      <td>1.80000</td>\n",
              "      <td>0.03800</td>\n",
              "      <td>17.00000</td>\n",
              "      <td>78.00000</td>\n",
              "      <td>0.99240</td>\n",
              "      <td>3.10000</td>\n",
              "      <td>0.43000</td>\n",
              "      <td>9.50000</td>\n",
              "    </tr>\n",
              "    <tr>\n",
              "      <th>50%</th>\n",
              "      <td>7.00000</td>\n",
              "      <td>0.29000</td>\n",
              "      <td>0.31000</td>\n",
              "      <td>2.80000</td>\n",
              "      <td>0.04700</td>\n",
              "      <td>29.00000</td>\n",
              "      <td>116.00000</td>\n",
              "      <td>0.99500</td>\n",
              "      <td>3.21000</td>\n",
              "      <td>0.50000</td>\n",
              "      <td>10.20000</td>\n",
              "    </tr>\n",
              "    <tr>\n",
              "      <th>75%</th>\n",
              "      <td>7.80000</td>\n",
              "      <td>0.40000</td>\n",
              "      <td>0.39000</td>\n",
              "      <td>8.00000</td>\n",
              "      <td>0.06700</td>\n",
              "      <td>41.50000</td>\n",
              "      <td>155.00000</td>\n",
              "      <td>0.99700</td>\n",
              "      <td>3.32000</td>\n",
              "      <td>0.60000</td>\n",
              "      <td>11.30000</td>\n",
              "    </tr>\n",
              "    <tr>\n",
              "      <th>max</th>\n",
              "      <td>15.90000</td>\n",
              "      <td>1.33000</td>\n",
              "      <td>1.00000</td>\n",
              "      <td>31.60000</td>\n",
              "      <td>0.46700</td>\n",
              "      <td>146.50000</td>\n",
              "      <td>307.50000</td>\n",
              "      <td>1.01030</td>\n",
              "      <td>3.78000</td>\n",
              "      <td>1.56000</td>\n",
              "      <td>14.90000</td>\n",
              "    </tr>\n",
              "  </tbody>\n",
              "</table>\n",
              "</div>"
            ]
          },
          "metadata": {},
          "execution_count": 19
        }
      ]
    },
    {
      "cell_type": "markdown",
      "metadata": {
        "id": "ETUVOTizsgUa"
      },
      "source": [
        "The two splits are clearly not equally representative. To make the splits equally representative, you can shuffle the data.\n",
        "\n",
        "Run the following code cell to shuffle the data, and then recreate the features and labels from the shuffled data."
      ]
    },
    {
      "cell_type": "code",
      "metadata": {
        "id": "l6G6xnJdu3CF"
      },
      "source": [
        "# Shuffle data\n",
        "wineDf = wineDf.sample(frac=1).reset_index(drop=True)\n",
        "# Recreate features and labels\n",
        "wineFeatures = wineDf.copy(deep=True)\n",
        "wineFeatures.drop(columns='quality',inplace=True)\n",
        "wineLabels = wineDf['quality'].copy(deep=True)"
      ],
      "execution_count": 17,
      "outputs": []
    },
    {
      "cell_type": "markdown",
      "metadata": {
        "id": "-BbK2JuTvYZw"
      },
      "source": [
        "Now, confirm that the splits are equally representative by regenerating and comparing the statistics using the previous code cells. You may wonder why the initial splits differed so greatly. It turns out that in the wine dataset, the first 4897 rows contain data on white wines and the next 1599 rows contain data on red wines. When you split your dataset 80:20, then your training dataset contains 5197 examples, which is 94% white wine. The validation dataset is purely red wine. \n",
        "\n",
        "Ensuring your splits are statistically equivalent is a good development practice. In general, following good development practices will simplify your model debugging. To learn about testing for statistical equivalence, see [Equivalence Tests Lakens, D.](https://journals.sagepub.com/doi/10.1177/1948550617697177)."
      ]
    },
    {
      "cell_type": "markdown",
      "metadata": {
        "id": "TH7y19etJQyd"
      },
      "source": [
        "# Establish a Baseline"
      ]
    },
    {
      "cell_type": "markdown",
      "metadata": {
        "id": "zj7hlj7yJSU2"
      },
      "source": [
        "For a regression problem, the simplest baseline to predict the average value. Run the following code to calculate the mean-squared error (MSE) loss on the training split using the average value as a baseline. Your loss is approximately 0.75. Any model should beat this loss to justify its use."
      ]
    },
    {
      "cell_type": "code",
      "metadata": {
        "id": "ryhxiL7qJak8",
        "colab": {
          "base_uri": "https://localhost:8080/"
        },
        "outputId": "3a015546-43bf-4e16-ecff-47c841df205a"
      },
      "source": [
        "baselineMSE = np.square(wineLabels[0:splitIdx]-np.mean(wineLabels[0:splitIdx]))\n",
        "baselineMSE = np.sum(baselineMSE)/len(baselineMSE)\n",
        "print(baselineMSE)"
      ],
      "execution_count": 20,
      "outputs": [
        {
          "output_type": "stream",
          "name": "stdout",
          "text": [
            "0.7686026436782162\n"
          ]
        }
      ]
    },
    {
      "cell_type": "markdown",
      "metadata": {
        "id": "vjRt-zgo5a1G"
      },
      "source": [
        "# Linear Model\n",
        "\n",
        "Following good ML dev practice, let's start with a linear model that uses the most informative feature from the correlation matrix: `alcohol`. Even if this model performs badly, we can still use it as a baseline. This model should beat our previous baseline's MSE of 0.75."
      ]
    },
    {
      "cell_type": "markdown",
      "metadata": {
        "id": "X1REI7glC8GA"
      },
      "source": [
        "First, let's define a function to plot our loss and accuracy curves. The function will also print the final loss and accuracy. Instead of using `verbose=1`, you can call the function."
      ]
    },
    {
      "cell_type": "code",
      "metadata": {
        "id": "l-qlE8TCC8j3"
      },
      "source": [
        "def showRegressionResults(trainHistory):\n",
        "  \"\"\"Function to:\n",
        "   * Print final loss.\n",
        "   * Plot loss curves.\n",
        "  \n",
        "  Args:\n",
        "    trainHistory: object returned by model.fit\n",
        "  \"\"\"\n",
        "  \n",
        "  # Print final loss\n",
        "  print(\"Final training loss: \" + str(trainHistory.history['loss'][-1]))\n",
        "  print(\"Final Validation loss: \" + str(trainHistory.history['val_loss'][-1]))\n",
        "  \n",
        "  # Plot loss curves\n",
        "  plt.plot(trainHistory.history['loss'])\n",
        "  plt.plot(trainHistory.history['val_loss'])\n",
        "  plt.legend(['Training loss','Validation loss'],loc='best')\n",
        "  plt.title('Loss Curves')"
      ],
      "execution_count": 21,
      "outputs": []
    },
    {
      "cell_type": "markdown",
      "metadata": {
        "id": "gSZZjpYnDLiP"
      },
      "source": [
        "For fast prototyping, let's try using a full batch per epoch to update the gradient only once per  epoch. Use the full batch by setting `batch_size = wineFeatures.shape[0]` as indicated by the code comment.\n",
        "\n",
        "What do you think of the loss curve? Can you improve it? For hints and discussion, see the following text cells."
      ]
    },
    {
      "cell_type": "code",
      "metadata": {
        "id": "wHUSu92-0q8-",
        "colab": {
          "base_uri": "https://localhost:8080/",
          "height": 315
        },
        "outputId": "433577ee-283f-4c18-f119-43edf287de71"
      },
      "source": [
        "model = None\n",
        "# Choose feature\n",
        "wineFeaturesSimple = wineFeatures['alcohol']\n",
        "# Define model\n",
        "model = keras.Sequential()\n",
        "model.add(keras.layers.Dense(units=1, activation='linear', input_dim=1))\n",
        "# Specify the optimizer using the TF API to specify the learning rate\n",
        "model.compile(optimizer=tf.optimizers.Adam(learning_rate=0.01),\n",
        "              loss='mse')\n",
        "# Train the model!\n",
        "trainHistory = model.fit(wineFeaturesSimple,\n",
        "                         wineLabels,\n",
        "                         epochs=20,\n",
        "                         batch_size=100, # set batch size here\n",
        "                         validation_split=0.2,\n",
        "                         verbose=0)\n",
        "# Plot\n",
        "showRegressionResults(trainHistory)"
      ],
      "execution_count": 30,
      "outputs": [
        {
          "output_type": "stream",
          "name": "stdout",
          "text": [
            "Final training loss: 0.6508893722728144\n",
            "Final Validation loss: 0.6472457097126887\n"
          ]
        },
        {
          "output_type": "display_data",
          "data": {
            "image/png": "[encoded data removed]",
            "text/plain": [
              "<Figure size 432x288 with 1 Axes>"
            ]
          },
          "metadata": {
            "needs_background": "light"
          }
        }
      ]
    },
    {
      "cell_type": "markdown",
      "metadata": {
        "id": "nWgwvf4qODQE"
      },
      "source": [
        "## Hint"
      ]
    },
    {
      "cell_type": "markdown",
      "metadata": {
        "id": "hzYID6wZ3Cff"
      },
      "source": [
        "The loss decreases but very slowly. Possible fixes are:\n",
        "\n",
        "* Increase number of epochs.\n",
        "* Increase learning rate.\n",
        "* Decrease batch size. A lower batch size can result in larger decrease in loss per epoch, under the assumption that the smaller batches stay representative of the overall data distribution.\n",
        "\n",
        "Play with these three parameters in the code above to decrease the loss."
      ]
    },
    {
      "cell_type": "markdown",
      "metadata": {
        "id": "w8qvAbVIsL4w"
      },
      "source": [
        "## Solution"
      ]
    },
    {
      "cell_type": "markdown",
      "metadata": {
        "id": "gx8cQD8VsZtI"
      },
      "source": [
        "Run the following code cell to train the model using a reduced batch size of 100. Reducing the batch size leads to a greater decrease in loss per epoch. The minimum achievable loss is about 0.64. This is a significant increase over our baseline of 0.75."
      ]
    },
    {
      "cell_type": "code",
      "metadata": {
        "id": "IDNZcb2cb_Tp",
        "colab": {
          "base_uri": "https://localhost:8080/",
          "height": 315
        },
        "outputId": "918147a7-8fa9-4382-8482-21ea85799f70"
      },
      "source": [
        "model = None\n",
        "# Choose feature\n",
        "wineFeaturesSimple = wineFeatures['alcohol']\n",
        "# Define model\n",
        "model = keras.Sequential()\n",
        "model.add(keras.layers.Dense(units=1, activation='linear', input_dim=1))\n",
        "# Specify the optimizer using the TF API to specify the learning rate\n",
        "model.compile(optimizer=tf.optimizers.Adam(learning_rate=0.01),\n",
        "              loss='mse')\n",
        "# Train the model!\n",
        "trainHistory = model.fit(wineFeaturesSimple,\n",
        "                         wineLabels,\n",
        "                         epochs=20,\n",
        "                         batch_size=100, # set batch size here\n",
        "                         validation_split=0.2,\n",
        "                         verbose=0)\n",
        "# Plot\n",
        "showRegressionResults(trainHistory)"
      ],
      "execution_count": 47,
      "outputs": [
        {
          "output_type": "stream",
          "name": "stdout",
          "text": [
            "Final training loss: 0.6269997331599261\n",
            "Final Validation loss: 0.6172082057366004\n"
          ]
        },
        {
          "output_type": "display_data",
          "data": {
            "image/png": "[encoded data removed]",
            "text/plain": [
              "<Figure size 432x288 with 1 Axes>"
            ]
          },
          "metadata": {
            "needs_background": "light"
          }
        }
      ]
    },
    {
      "cell_type": "markdown",
      "metadata": {
        "id": "pkXqclbwANES"
      },
      "source": [
        "# Add Feature to Linear Model\n",
        "\n",
        "Try adding a feature to the linear model. Since you need to combine the two features into one prediction for regression, you'll also need to add a second layer. Modify the code below to implement the following changes:\n",
        "\n",
        "1. Add `'volatile acidity'` to the features in `wineFeaturesSimple`.\n",
        "1. Add a second linear layer with 1 unit.\n",
        "1. Experiment with learning rate, epochs, and batch_size to try to reduce loss.\n",
        "\n",
        "What happens to your loss?"
      ]
    },
    {
      "cell_type": "code",
      "metadata": {
        "id": "9l2vVIiz-06P",
        "colab": {
          "base_uri": "https://localhost:8080/",
          "height": 315
        },
        "outputId": "349e0b51-70e2-4f56-caa7-243814219c4e"
      },
      "source": [
        "model = None\n",
        "# Select features\n",
        "wineFeaturesSimple = wineFeatures[['alcohol', 'volatile acidity']] # add 'volatile acidity'\n",
        "# Define model\n",
        "model = keras.Sequential()\n",
        "model.add(keras.layers.Dense(wineFeaturesSimple.shape[1],\n",
        "                             input_dim=wineFeaturesSimple.shape[1],\n",
        "                             activation='linear'))\n",
        "model.add(keras.layers.Dense(1, activation='linear')) # add second layer\n",
        "# Compile\n",
        "model.compile(optimizer=tf.optimizers.Adam(learning_rate=0.01), loss='mse')\n",
        "# Train\n",
        "trainHistory = model.fit(wineFeaturesSimple,\n",
        "                         wineLabels,\n",
        "                         epochs=20,\n",
        "                         batch_size=100,\n",
        "                         validation_split=0.2,\n",
        "                         verbose=0)\n",
        "# Plot results\n",
        "showRegressionResults(trainHistory)"
      ],
      "execution_count": 55,
      "outputs": [
        {
          "output_type": "stream",
          "name": "stdout",
          "text": [
            "Final training loss: 0.6019200598916022\n",
            "Final Validation loss: 0.6082481375107398\n"
          ]
        },
        {
          "output_type": "display_data",
          "data": {
            "image/png": "[encoded data removed]",
            "text/plain": [
              "<Figure size 432x288 with 1 Axes>"
            ]
          },
          "metadata": {
            "needs_background": "light"
          }
        }
      ]
    },
    {
      "cell_type": "markdown",
      "metadata": {
        "id": "_prjsbFc71O8"
      },
      "source": [
        "## Solution"
      ]
    },
    {
      "cell_type": "markdown",
      "metadata": {
        "id": "895HsCHl7-Qk"
      },
      "source": [
        "Run the following code to add the second feature and the second layer. The training loss is about 0.59, a small decrease from the previous loss of 0.64."
      ]
    },
    {
      "cell_type": "code",
      "metadata": {
        "id": "Ai06p1DEbadf",
        "colab": {
          "base_uri": "https://localhost:8080/",
          "height": 315
        },
        "outputId": "9331f470-f660-40f4-c1e2-1aa1dcefb19f"
      },
      "source": [
        "model = None\n",
        "# Select features\n",
        "wineFeaturesSimple = wineFeatures[['alcohol', 'volatile acidity']] # add second feature\n",
        "# Define model\n",
        "model = keras.Sequential()\n",
        "model.add(keras.layers.Dense(wineFeaturesSimple.shape[1],\n",
        "                             input_dim=wineFeaturesSimple.shape[1],\n",
        "                             activation='linear'))\n",
        "model.add(keras.layers.Dense(1, activation='linear')) # add second layer\n",
        "# Compile\n",
        "model.compile(optimizer=tf.optimizers.Adam(learning_rate=0.01), loss='mse')\n",
        "# Train\n",
        "trainHistory = model.fit(wineFeaturesSimple,\n",
        "                         wineLabels,\n",
        "                         epochs=20,\n",
        "                         batch_size=100,\n",
        "                         validation_split=0.2,\n",
        "                         verbose=0)\n",
        "# Plot results\n",
        "showRegressionResults(trainHistory)"
      ],
      "execution_count": 44,
      "outputs": [
        {
          "output_type": "stream",
          "name": "stdout",
          "text": [
            "Final training loss: 0.5967044640853585\n",
            "Final Validation loss: 0.5991997099839724\n"
          ]
        },
        {
          "output_type": "display_data",
          "data": {
            "image/png": "[encoded data removed]",
            "text/plain": [
              "<Figure size 432x288 with 1 Axes>"
            ]
          },
          "metadata": {
            "needs_background": "light"
          }
        }
      ]
    },
    {
      "cell_type": "markdown",
      "metadata": {
        "id": "AvY20_w6Awz7"
      },
      "source": [
        "# Use a Nonlinear Model\n",
        "\n",
        "Let's try a nonlinear model. Modify the code below to make the following changes:\n",
        "\n",
        "1. Change the first layer to use `relu`. (Output layer stays linear since this is a regression problem.)\n",
        "1. As usual, specify the learning rate, epochs, and batch_size.\n",
        "\n",
        "Run the cell. Does the loss increase, decrease, or stay the same?"
      ]
    },
    {
      "cell_type": "code",
      "metadata": {
        "id": "YyH3Y_ycAv2x",
        "colab": {
          "base_uri": "https://localhost:8080/",
          "height": 315
        },
        "outputId": "608570f7-636f-401b-f3a9-c5a5d4af4bed"
      },
      "source": [
        "model = None\n",
        "# Define\n",
        "model = keras.Sequential()\n",
        "model.add(keras.layers.Dense(wineFeaturesSimple.shape[1],\n",
        "                             input_dim=wineFeaturesSimple.shape[1],\n",
        "                             activation='relu'))\n",
        "model.add(keras.layers.Dense(1, activation='linear'))\n",
        "# Compile\n",
        "model.compile(optimizer=tf.optimizers.Adam(learning_rate=0.01), loss='mse')\n",
        "# Fit\n",
        "model.fit(wineFeaturesSimple,\n",
        "          wineLabels,\n",
        "          epochs=20,\n",
        "          batch_size=300,\n",
        "          validation_split=0.2,\n",
        "          verbose=0)\n",
        "# Plot results\n",
        "showRegressionResults(trainHistory)"
      ],
      "execution_count": 58,
      "outputs": [
        {
          "output_type": "stream",
          "name": "stdout",
          "text": [
            "Final training loss: 0.6019200598916022\n",
            "Final Validation loss: 0.6082481375107398\n"
          ]
        },
        {
          "output_type": "display_data",
          "data": {
            "image/png": "[encoded data removed]",
            "text/plain": [
              "<Figure size 432x288 with 1 Axes>"
            ]
          },
          "metadata": {
            "needs_background": "light"
          }
        }
      ]
    },
    {
      "cell_type": "markdown",
      "metadata": {
        "id": "SDLggOvfqFbe"
      },
      "source": [
        "## Solution"
      ]
    },
    {
      "cell_type": "markdown",
      "metadata": {
        "id": "sl8Ft3FrqGjl"
      },
      "source": [
        "Run the following cell to use a `relu` activation in your first hidden layer. Your loss stays about the same, perhaps declining negligibly to 0.58."
      ]
    },
    {
      "cell_type": "code",
      "metadata": {
        "id": "HgsUJNaTdjDb",
        "colab": {
          "base_uri": "https://localhost:8080/",
          "height": 315
        },
        "outputId": "901794eb-c331-4f5c-eea1-e6fbe14c14f8"
      },
      "source": [
        "model = None\n",
        "# Define\n",
        "model = keras.Sequential()\n",
        "model.add(keras.layers.Dense(wineFeaturesSimple.shape[1],\n",
        "                             input_dim=wineFeaturesSimple.shape[1],\n",
        "                             activation='relu'))\n",
        "model.add(keras.layers.Dense(1, activation='linear'))\n",
        "# Compile\n",
        "model.compile(optimizer=tf.optimizers.Adam(), loss='mse')\n",
        "# Fit\n",
        "model.fit(wineFeaturesSimple,\n",
        "          wineLabels,\n",
        "          epochs=20,\n",
        "          batch_size=100,\n",
        "          validation_split=0.2,\n",
        "          verbose=0)\n",
        "# Plot results\n",
        "showRegressionResults(trainHistory)"
      ],
      "execution_count": 59,
      "outputs": [
        {
          "output_type": "stream",
          "name": "stdout",
          "text": [
            "Final training loss: 0.6019200598916022\n",
            "Final Validation loss: 0.6082481375107398\n"
          ]
        },
        {
          "output_type": "display_data",
          "data": {
            "image/png": "[encoded data removed]",
            "text/plain": [
              "<Figure size 432x288 with 1 Axes>"
            ]
          },
          "metadata": {
            "needs_background": "light"
          }
        }
      ]
    },
    {
      "cell_type": "markdown",
      "metadata": {
        "id": "Ef5AXAcjBoHb"
      },
      "source": [
        "# Optimize Your Model\n",
        "\n",
        "We have two features with one hidden layer but didn't see an improvement. At this point, it's tempting to use all your features with a high-capacity network. However, you must resist the temptation. Instead, follow the guidance in [Model Optimization](https://developers.google.com/machine-learning/testing-debugging/common/optimization) to improve model performance. For a hint and for a discussion, see the following text sections."
      ]
    },
    {
      "cell_type": "code",
      "metadata": {
        "id": "y07BO1feBnT0",
        "colab": {
          "base_uri": "https://localhost:8080/",
          "height": 315
        },
        "outputId": "7cdedd3b-141c-4c71-debb-a03cbb3b9a58"
      },
      "source": [
        "# Choose features\n",
        "#['fixed acidity','volatile acidity','citric acid',\n",
        "                    #  'residual sugar','chlorides','free sulfur dioxide',\n",
        "                    #  'total sulfur dioxide','density','pH',\n",
        "                    #  'sulphates','alcohol','quality']\n",
        "wineFeaturesSimple = wineFeatures[['alcohol', 'volatile acidity','density','chlorides']] # add features\n",
        "# Define\n",
        "model = None\n",
        "model = keras.Sequential()\n",
        "model.add(keras.layers.Dense(wineFeaturesSimple.shape[1],\n",
        "                             activation='relu',\n",
        "                             input_dim=wineFeaturesSimple.shape[1]))\n",
        "model.add(keras.layers.Dense(20,\n",
        "                             activation='relu',\n",
        "                             input_dim=wineFeaturesSimple.shape[1]))\n",
        "# Add more layers here\n",
        "model.add(keras.layers.Dense(1,activation='linear'))\n",
        "# Compile\n",
        "model.compile(optimizer=tf.optimizers.Adam(learning_rate=0.01), loss='mse')\n",
        "# Train\n",
        "trainHistory = model.fit(wineFeaturesSimple,\n",
        "                         wineLabels,\n",
        "                         epochs=100,\n",
        "                         batch_size=100,\n",
        "                         validation_split=0.2,\n",
        "                         verbose=0)\n",
        "# Plot results\n",
        "showRegressionResults(trainHistory)"
      ],
      "execution_count": 82,
      "outputs": [
        {
          "output_type": "stream",
          "name": "stdout",
          "text": [
            "Final training loss: 0.5716669922244763\n",
            "Final Validation loss: 0.5787208034442022\n"
          ]
        },
        {
          "output_type": "display_data",
          "data": {
            "image/png": "[encoded data removed]",
            "text/plain": [
              "<Figure size 432x288 with 1 Axes>"
            ]
          },
          "metadata": {
            "needs_background": "light"
          }
        }
      ]
    },
    {
      "cell_type": "markdown",
      "metadata": {
        "id": "syvONtOvrkBV"
      },
      "source": [
        "## Hint"
      ]
    },
    {
      "cell_type": "markdown",
      "metadata": {
        "id": "cy-trUPfrk9X"
      },
      "source": [
        "You can try to reduce loss by adding features, adding layers, or playing with the hyperparameters. Before adding more features, check the correlation matrix. Don't expect your loss to decrease by much. Sadly, that is a common experience in machine learning!"
      ]
    },
    {
      "cell_type": "markdown",
      "metadata": {
        "id": "Nm1xp9DjCejl"
      },
      "source": [
        "## Solution"
      ]
    },
    {
      "cell_type": "markdown",
      "metadata": {
        "id": "H_URHTCL9QiX"
      },
      "source": [
        "Run the following code to:\n",
        "\n",
        "* Add the features chlorides and density.\n",
        "* Set training epochs to 100.\n",
        "* Set batch size to 100.\n",
        "\n",
        "Your loss reduces to about 0.56. That's a minor improvement over the previous loss of 0.58. It seems that adding more features or capacity isn't improving your model by much. Perhaps your model has a bug? In the next section, you will run a sanity check on your model."
      ]
    },
    {
      "cell_type": "code",
      "metadata": {
        "id": "E87kEZADeJFT",
        "colab": {
          "base_uri": "https://localhost:8080/",
          "height": 315
        },
        "outputId": "0042c5fb-591f-4f4a-c49c-0cf3bb365c05"
      },
      "source": [
        "# Choose features\n",
        "wineFeaturesSimple = wineFeatures[['alcohol','volatile acidity','chlorides','density']]\n",
        "# Define\n",
        "model = None\n",
        "model = keras.Sequential()\n",
        "model.add(keras.layers.Dense(wineFeaturesSimple.shape[1],\n",
        "                             activation='relu',\n",
        "                             input_dim=wineFeaturesSimple.shape[1]))\n",
        "# Add more layers here\n",
        "model.add(keras.layers.Dense(1,activation='linear'))\n",
        "# Compile\n",
        "model.compile(optimizer=tf.optimizers.Adam(), loss='mse')\n",
        "# Train\n",
        "trainHistory = model.fit(wineFeaturesSimple,\n",
        "                         wineLabels,\n",
        "                         epochs=200,\n",
        "                         batch_size=100,\n",
        "                         validation_split=0.2,\n",
        "                         verbose=0)\n",
        "# Plot results\n",
        "showRegressionResults(trainHistory)"
      ],
      "execution_count": 83,
      "outputs": [
        {
          "output_type": "stream",
          "name": "stdout",
          "text": [
            "Final training loss: 0.5654703159962614\n",
            "Final Validation loss: 0.5738075696505033\n"
          ]
        },
        {
          "output_type": "display_data",
          "data": {
            "image/png": "[encoded data removed]",
            "text/plain": [
              "<Figure size 432x288 with 1 Axes>"
            ]
          },
          "metadata": {
            "needs_background": "light"
          }
        }
      ]
    },
    {
      "cell_type": "markdown",
      "metadata": {
        "id": "gy6CkyIZSMN3"
      },
      "source": [
        "# Check for Implementation Bugs using Reduced Dataset\n",
        "\n",
        "Your loss isn't decreasing by much. Perhaps your model has an implementation bug. From the [Model Debugging](https://developers.google.com/machine-learning/testing-debugging/common/model-errors) guidelines, a quick test for implementation bugs is to obtain a low loss on a reduced dataset of, say, 10 examples. Remember, passing this test does not validate your modeling approach but only checks for basic implementation bugs. In your ML problem, if your model passes this test, then continue debugging your model to train on your full dataset.\n",
        "\n",
        "In the following code, experiment with the learning rate, batch size, and number of epochs. Can you reach a low loss? Choose hyperparameter values that let you iterate quickly."
      ]
    },
    {
      "cell_type": "code",
      "metadata": {
        "id": "A0WLrVA7SUJe",
        "colab": {
          "base_uri": "https://localhost:8080/",
          "height": 303
        },
        "outputId": "8ed9f64c-77ef-42f8-f1d9-ae0adb253583"
      },
      "source": [
        "# Choose 10 examples\n",
        "wineFeaturesSmall = wineFeatures[0:10]\n",
        "wineLabelsSmall = wineLabels[0:10]\n",
        "# Define model\n",
        "model = None\n",
        "model = keras.Sequential()\n",
        "model.add(keras.layers.Dense(wineFeaturesSmall.shape[1],\n",
        "                             activation='relu',\n",
        "                             input_dim=wineFeaturesSmall.shape[1]))\n",
        "model.add(keras.layers.Dense(wineFeaturesSmall.shape[1], activation='relu'))\n",
        "model.add(keras.layers.Dense(1, activation='linear'))\n",
        "# Compile\n",
        "model.compile(optimizer=tf.optimizers.Adam(learning_rate=0.01), loss='mse') # set LR\n",
        "# Train\n",
        "trainHistory = model.fit(wineFeaturesSmall,\n",
        "                        wineLabelsSmall,\n",
        "                        epochs=300,\n",
        "                        batch_size=10,\n",
        "                        verbose=0)\n",
        "# Plot results\n",
        "print(\"Final training loss: \" + str(trainHistory.history['loss'][-1]))\n",
        "plt.plot(trainHistory.history['loss'])"
      ],
      "execution_count": 89,
      "outputs": [
        {
          "output_type": "stream",
          "name": "stdout",
          "text": [
            "Final training loss: 0.3775319755077362\n"
          ]
        },
        {
          "output_type": "execute_result",
          "data": {
            "text/plain": [
              "[<matplotlib.lines.Line2D at 0x7f7ebd8100d0>]"
            ]
          },
          "metadata": {},
          "execution_count": 89
        },
        {
          "output_type": "display_data",
          "data": {
            "image/png": "[encoded data removed]",
            "text/plain": [
              "<Figure size 432x288 with 1 Axes>"
            ]
          },
          "metadata": {
            "needs_background": "light"
          }
        }
      ]
    },
    {
      "cell_type": "markdown",
      "metadata": {
        "id": "uoUVsCIsYBVC"
      },
      "source": [
        "## Solution"
      ]
    },
    {
      "cell_type": "markdown",
      "metadata": {
        "id": "Z5TWFqrZ-oyp"
      },
      "source": [
        "Run the following code cell to train the model using these hyperparameter values:\n",
        "\n",
        "* learning rate = 0.01\n",
        "* epochs = 200\n",
        "* batch size = 10\n",
        "\n",
        "You get a low loss on your reduced dataset. This result means your model is probably solid and your previous results are as good as they'll get."
      ]
    },
    {
      "cell_type": "code",
      "metadata": {
        "id": "xzIcE6j_fQNf",
        "colab": {
          "base_uri": "https://localhost:8080/",
          "height": 303
        },
        "outputId": "4e4ef5fb-d65e-47c2-87ce-56f131530d34"
      },
      "source": [
        "# Choose 10 examples\n",
        "wineFeaturesSmall = wineFeatures[0:10]\n",
        "wineLabelsSmall = wineLabels[0:10]\n",
        "# Define model\n",
        "model = None\n",
        "model = keras.Sequential()\n",
        "model.add(keras.layers.Dense(wineFeaturesSmall.shape[1], activation='relu',\n",
        "                             input_dim=wineFeaturesSmall.shape[1]))\n",
        "model.add(keras.layers.Dense(wineFeaturesSmall.shape[1], activation='relu'))\n",
        "model.add(keras.layers.Dense(1, activation='linear'))\n",
        "# Compile\n",
        "model.compile(optimizer=tf.optimizers.Adam(0.01), loss='mse') # set LR\n",
        "# Train\n",
        "trainHistory = model.fit(wineFeaturesSmall,\n",
        "                        wineLabelsSmall,\n",
        "                        epochs=200,\n",
        "                        batch_size=10,\n",
        "                        verbose=0)\n",
        "# Plot results\n",
        "print(\"Final training loss: \" + str(trainHistory.history['loss'][-1]))\n",
        "plt.plot(trainHistory.history['loss'])"
      ],
      "execution_count": 90,
      "outputs": [
        {
          "output_type": "stream",
          "name": "stdout",
          "text": [
            "Final training loss: 0.29540520906448364\n"
          ]
        },
        {
          "output_type": "execute_result",
          "data": {
            "text/plain": [
              "[<matplotlib.lines.Line2D at 0x7f7ec4a1afd0>]"
            ]
          },
          "metadata": {},
          "execution_count": 90
        },
        {
          "output_type": "display_data",
          "data": {
            "image/png": "[encoded data removed]",
            "text/plain": [
              "<Figure size 432x288 with 1 Axes>"
            ]
          },
          "metadata": {
            "needs_background": "light"
          }
        }
      ]
    },
    {
      "cell_type": "markdown",
      "metadata": {
        "id": "LK-CuHasqxt6"
      },
      "source": [
        "# Trying a Very Complex Model"
      ]
    },
    {
      "cell_type": "markdown",
      "metadata": {
        "id": "BLiaqT8AKZ8o"
      },
      "source": [
        "Let's go all in and use a very complex model with all the features. For science! And to satisfy ourselves that a simple model is indeed better. Let's use all 11 features with 3 fully-connected relu layers and a final linear layer. The next cell takes a while to run. Skip to the results in the cell after if you like."
      ]
    },
    {
      "cell_type": "code",
      "metadata": {
        "id": "I5D1IyEZq1Ej",
        "colab": {
          "base_uri": "https://localhost:8080/",
          "height": 1000
        },
        "outputId": "f838c229-0ef4-47b8-976a-205c9b6e13a0"
      },
      "source": [
        "model = None\n",
        "# Define\n",
        "model = keras.Sequential()\n",
        "model.add(keras.layers.Dense(wineFeatures.shape[1], activation='relu',\n",
        "                             input_dim=wineFeatures.shape[1]))\n",
        "model.add(keras.layers.Dense(wineFeatures.shape[1], activation='relu'))\n",
        "model.add(keras.layers.Dense(wineFeatures.shape[1], activation='relu'))\n",
        "model.add(keras.layers.Dense(1,activation='linear'))\n",
        "# Compile\n",
        "model.compile(optimizer=tf.optimizers.Adam(), loss='mse')\n",
        "# Train the model!\n",
        "trainHistory = model.fit(wineFeatures, wineLabels, epochs=100, batch_size=100,\n",
        "                         verbose=1, validation_split = 0.2)\n",
        "# Plot results\n",
        "showRegressionResults(trainHistory)\n",
        "plt.ylim(0.4,1)"
      ],
      "execution_count": 91,
      "outputs": [
        {
          "output_type": "stream",
          "name": "stdout",
          "text": [
            "Train on 5197 samples, validate on 1300 samples\n",
            "Epoch 1/100\n",
            "5197/5197 [==============================] - 0s 70us/sample - loss: 7.2351 - val_loss: 5.5423\n",
            "Epoch 2/100\n",
            "5197/5197 [==============================] - 0s 19us/sample - loss: 4.2670 - val_loss: 3.2073\n",
            "Epoch 3/100\n",
            "5197/5197 [==============================] - 0s 19us/sample - loss: 2.1751 - val_loss: 1.3626\n",
            "Epoch 4/100\n",
            "5197/5197 [==============================] - 0s 20us/sample - loss: 1.0890 - val_loss: 0.9059\n",
            "Epoch 5/100\n",
            "5197/5197 [==============================] - 0s 19us/sample - loss: 0.8250 - val_loss: 0.7785\n",
            "Epoch 6/100\n",
            "5197/5197 [==============================] - 0s 21us/sample - loss: 0.7299 - val_loss: 0.6827\n",
            "Epoch 7/100\n",
            "5197/5197 [==============================] - 0s 21us/sample - loss: 0.6976 - val_loss: 0.6678\n",
            "Epoch 8/100\n",
            "5197/5197 [==============================] - 0s 20us/sample - loss: 0.6745 - val_loss: 0.6788\n",
            "Epoch 9/100\n",
            "5197/5197 [==============================] - 0s 20us/sample - loss: 0.6603 - val_loss: 0.6480\n",
            "Epoch 10/100\n",
            "5197/5197 [==============================] - 0s 20us/sample - loss: 0.6586 - val_loss: 0.6580\n",
            "Epoch 11/100\n",
            "5197/5197 [==============================] - 0s 20us/sample - loss: 0.6522 - val_loss: 0.6336\n",
            "Epoch 12/100\n",
            "5197/5197 [==============================] - 0s 19us/sample - loss: 0.6432 - val_loss: 0.6313\n",
            "Epoch 13/100\n",
            "5197/5197 [==============================] - 0s 19us/sample - loss: 0.6454 - val_loss: 0.6166\n",
            "Epoch 14/100\n",
            "5197/5197 [==============================] - 0s 19us/sample - loss: 0.6240 - val_loss: 0.6173\n",
            "Epoch 15/100\n",
            "5197/5197 [==============================] - 0s 19us/sample - loss: 0.6372 - val_loss: 0.6077\n",
            "Epoch 16/100\n",
            "5197/5197 [==============================] - 0s 23us/sample - loss: 0.6218 - val_loss: 0.6221\n",
            "Epoch 17/100\n",
            "5197/5197 [==============================] - 0s 21us/sample - loss: 0.6135 - val_loss: 0.6002\n",
            "Epoch 18/100\n",
            "5197/5197 [==============================] - 0s 19us/sample - loss: 0.6143 - val_loss: 0.6530\n",
            "Epoch 19/100\n",
            "5197/5197 [==============================] - 0s 19us/sample - loss: 0.6043 - val_loss: 0.5945\n",
            "Epoch 20/100\n",
            "5197/5197 [==============================] - 0s 19us/sample - loss: 0.6147 - val_loss: 0.6137\n",
            "Epoch 21/100\n",
            "5197/5197 [==============================] - 0s 19us/sample - loss: 0.6217 - val_loss: 0.6575\n",
            "Epoch 22/100\n",
            "5197/5197 [==============================] - 0s 19us/sample - loss: 0.5969 - val_loss: 0.5861\n",
            "Epoch 23/100\n",
            "5197/5197 [==============================] - 0s 19us/sample - loss: 0.6073 - val_loss: 0.5929\n",
            "Epoch 24/100\n",
            "5197/5197 [==============================] - 0s 20us/sample - loss: 0.5901 - val_loss: 0.5820\n",
            "Epoch 25/100\n",
            "5197/5197 [==============================] - 0s 22us/sample - loss: 0.5904 - val_loss: 0.5909\n",
            "Epoch 26/100\n",
            "5197/5197 [==============================] - 0s 23us/sample - loss: 0.5849 - val_loss: 0.5775\n",
            "Epoch 27/100\n",
            "5197/5197 [==============================] - 0s 19us/sample - loss: 0.5821 - val_loss: 0.5781\n",
            "Epoch 28/100\n",
            "5197/5197 [==============================] - 0s 20us/sample - loss: 0.5830 - val_loss: 0.5796\n",
            "Epoch 29/100\n",
            "5197/5197 [==============================] - 0s 19us/sample - loss: 0.5770 - val_loss: 0.5863\n",
            "Epoch 30/100\n",
            "5197/5197 [==============================] - 0s 20us/sample - loss: 0.5725 - val_loss: 0.6207\n",
            "Epoch 31/100\n",
            "5197/5197 [==============================] - 0s 21us/sample - loss: 0.5784 - val_loss: 0.5953\n",
            "Epoch 32/100\n",
            "5197/5197 [==============================] - 0s 19us/sample - loss: 0.5800 - val_loss: 0.6831\n",
            "Epoch 33/100\n",
            "5197/5197 [==============================] - 0s 19us/sample - loss: 0.6078 - val_loss: 0.5987\n",
            "Epoch 34/100\n",
            "5197/5197 [==============================] - 0s 21us/sample - loss: 0.5684 - val_loss: 0.5683\n",
            "Epoch 35/100\n",
            "5197/5197 [==============================] - 0s 21us/sample - loss: 0.5660 - val_loss: 0.5724\n",
            "Epoch 36/100\n",
            "5197/5197 [==============================] - 0s 21us/sample - loss: 0.5806 - val_loss: 0.5780\n",
            "Epoch 37/100\n",
            "5197/5197 [==============================] - 0s 20us/sample - loss: 0.5749 - val_loss: 0.5635\n",
            "Epoch 38/100\n",
            "5197/5197 [==============================] - 0s 19us/sample - loss: 0.5792 - val_loss: 0.5694\n",
            "Epoch 39/100\n",
            "5197/5197 [==============================] - 0s 18us/sample - loss: 0.5609 - val_loss: 0.5622\n",
            "Epoch 40/100\n",
            "5197/5197 [==============================] - 0s 18us/sample - loss: 0.5696 - val_loss: 0.5901\n",
            "Epoch 41/100\n",
            "5197/5197 [==============================] - 0s 20us/sample - loss: 0.5661 - val_loss: 0.5680\n",
            "Epoch 42/100\n",
            "5197/5197 [==============================] - 0s 19us/sample - loss: 0.5606 - val_loss: 0.5610\n",
            "Epoch 43/100\n",
            "5197/5197 [==============================] - 0s 19us/sample - loss: 0.5815 - val_loss: 0.5597\n",
            "Epoch 44/100\n",
            "5197/5197 [==============================] - 0s 20us/sample - loss: 0.5788 - val_loss: 0.5545\n",
            "Epoch 45/100\n",
            "5197/5197 [==============================] - 0s 22us/sample - loss: 0.5527 - val_loss: 0.5570\n",
            "Epoch 46/100\n",
            "5197/5197 [==============================] - 0s 20us/sample - loss: 0.5529 - val_loss: 0.6425\n",
            "Epoch 47/100\n",
            "5197/5197 [==============================] - 0s 19us/sample - loss: 0.5711 - val_loss: 0.5837\n",
            "Epoch 48/100\n",
            "5197/5197 [==============================] - 0s 19us/sample - loss: 0.5521 - val_loss: 0.5630\n",
            "Epoch 49/100\n",
            "5197/5197 [==============================] - 0s 20us/sample - loss: 0.5496 - val_loss: 0.5548\n",
            "Epoch 50/100\n",
            "5197/5197 [==============================] - 0s 18us/sample - loss: 0.5623 - val_loss: 0.5542\n",
            "Epoch 51/100\n",
            "5197/5197 [==============================] - 0s 18us/sample - loss: 0.5813 - val_loss: 0.5507\n",
            "Epoch 52/100\n",
            "5197/5197 [==============================] - 0s 20us/sample - loss: 0.5586 - val_loss: 0.5601\n",
            "Epoch 53/100\n",
            "5197/5197 [==============================] - 0s 18us/sample - loss: 0.5574 - val_loss: 0.5840\n",
            "Epoch 54/100\n",
            "5197/5197 [==============================] - 0s 19us/sample - loss: 0.5695 - val_loss: 0.6145\n",
            "Epoch 55/100\n",
            "5197/5197 [==============================] - 0s 23us/sample - loss: 0.5597 - val_loss: 0.5631\n",
            "Epoch 56/100\n",
            "5197/5197 [==============================] - 0s 19us/sample - loss: 0.5673 - val_loss: 0.5614\n",
            "Epoch 57/100\n",
            "5197/5197 [==============================] - 0s 21us/sample - loss: 0.5602 - val_loss: 0.5600\n",
            "Epoch 58/100\n",
            "5197/5197 [==============================] - 0s 19us/sample - loss: 0.5576 - val_loss: 0.5486\n",
            "Epoch 59/100\n",
            "5197/5197 [==============================] - 0s 19us/sample - loss: 0.5515 - val_loss: 0.5508\n",
            "Epoch 60/100\n",
            "5197/5197 [==============================] - 0s 19us/sample - loss: 0.5507 - val_loss: 0.5830\n",
            "Epoch 61/100\n",
            "5197/5197 [==============================] - 0s 21us/sample - loss: 0.5527 - val_loss: 0.5462\n",
            "Epoch 62/100\n",
            "5197/5197 [==============================] - 0s 19us/sample - loss: 0.5564 - val_loss: 0.5794\n",
            "Epoch 63/100\n",
            "5197/5197 [==============================] - 0s 19us/sample - loss: 0.5756 - val_loss: 0.5877\n",
            "Epoch 64/100\n",
            "5197/5197 [==============================] - 0s 21us/sample - loss: 0.5636 - val_loss: 0.5727\n",
            "Epoch 65/100\n",
            "5197/5197 [==============================] - 0s 22us/sample - loss: 0.5542 - val_loss: 0.5451\n",
            "Epoch 66/100\n",
            "5197/5197 [==============================] - 0s 19us/sample - loss: 0.5639 - val_loss: 0.5457\n",
            "Epoch 67/100\n",
            "5197/5197 [==============================] - 0s 19us/sample - loss: 0.5464 - val_loss: 0.5555\n",
            "Epoch 68/100\n",
            "5197/5197 [==============================] - 0s 20us/sample - loss: 0.5450 - val_loss: 0.5483\n",
            "Epoch 69/100\n",
            "5197/5197 [==============================] - 0s 22us/sample - loss: 0.5524 - val_loss: 0.5499\n",
            "Epoch 70/100\n",
            "5197/5197 [==============================] - 0s 20us/sample - loss: 0.5445 - val_loss: 0.5742\n",
            "Epoch 71/100\n",
            "5197/5197 [==============================] - 0s 21us/sample - loss: 0.5458 - val_loss: 0.5424\n",
            "Epoch 72/100\n",
            "5197/5197 [==============================] - 0s 20us/sample - loss: 0.5559 - val_loss: 0.5468\n",
            "Epoch 73/100\n",
            "5197/5197 [==============================] - 0s 19us/sample - loss: 0.5537 - val_loss: 0.5465\n",
            "Epoch 74/100\n",
            "5197/5197 [==============================] - 0s 21us/sample - loss: 0.5474 - val_loss: 0.5462\n",
            "Epoch 75/100\n",
            "5197/5197 [==============================] - 0s 19us/sample - loss: 0.5467 - val_loss: 0.5491\n",
            "Epoch 76/100\n",
            "5197/5197 [==============================] - 0s 20us/sample - loss: 0.5431 - val_loss: 0.5813\n",
            "Epoch 77/100\n",
            "5197/5197 [==============================] - 0s 19us/sample - loss: 0.5431 - val_loss: 0.6136\n",
            "Epoch 78/100\n",
            "5197/5197 [==============================] - 0s 18us/sample - loss: 0.5614 - val_loss: 0.5485\n",
            "Epoch 79/100\n",
            "5197/5197 [==============================] - 0s 20us/sample - loss: 0.5404 - val_loss: 0.5675\n",
            "Epoch 80/100\n",
            "5197/5197 [==============================] - 0s 17us/sample - loss: 0.5427 - val_loss: 0.5481\n",
            "Epoch 81/100\n",
            "5197/5197 [==============================] - 0s 21us/sample - loss: 0.5433 - val_loss: 0.5519\n",
            "Epoch 82/100\n",
            "5197/5197 [==============================] - 0s 23us/sample - loss: 0.5541 - val_loss: 0.5435\n",
            "Epoch 83/100\n",
            "5197/5197 [==============================] - 0s 22us/sample - loss: 0.5537 - val_loss: 0.5427\n",
            "Epoch 84/100\n",
            "5197/5197 [==============================] - 0s 20us/sample - loss: 0.5414 - val_loss: 0.5429\n",
            "Epoch 85/100\n",
            "5197/5197 [==============================] - 0s 19us/sample - loss: 0.5380 - val_loss: 0.5458\n",
            "Epoch 86/100\n",
            "5197/5197 [==============================] - 0s 19us/sample - loss: 0.5421 - val_loss: 0.5671\n",
            "Epoch 87/100\n",
            "5197/5197 [==============================] - 0s 20us/sample - loss: 0.5413 - val_loss: 0.5478\n",
            "Epoch 88/100\n",
            "5197/5197 [==============================] - 0s 18us/sample - loss: 0.5623 - val_loss: 0.5848\n",
            "Epoch 89/100\n",
            "5197/5197 [==============================] - 0s 19us/sample - loss: 0.5394 - val_loss: 0.5861\n",
            "Epoch 90/100\n",
            "5197/5197 [==============================] - 0s 20us/sample - loss: 0.5556 - val_loss: 0.5543\n",
            "Epoch 91/100\n",
            "5197/5197 [==============================] - 0s 19us/sample - loss: 0.5453 - val_loss: 0.5849\n",
            "Epoch 92/100\n",
            "5197/5197 [==============================] - 0s 19us/sample - loss: 0.5370 - val_loss: 0.5398\n",
            "Epoch 93/100\n",
            "5197/5197 [==============================] - 0s 20us/sample - loss: 0.5356 - val_loss: 0.5392\n",
            "Epoch 94/100\n",
            "5197/5197 [==============================] - 0s 20us/sample - loss: 0.5469 - val_loss: 0.5521\n",
            "Epoch 95/100\n",
            "5197/5197 [==============================] - 0s 21us/sample - loss: 0.5361 - val_loss: 0.5396\n",
            "Epoch 96/100\n",
            "5197/5197 [==============================] - 0s 20us/sample - loss: 0.5399 - val_loss: 0.5441\n",
            "Epoch 97/100\n",
            "5197/5197 [==============================] - 0s 19us/sample - loss: 0.5756 - val_loss: 0.5732\n",
            "Epoch 98/100\n",
            "5197/5197 [==============================] - 0s 18us/sample - loss: 0.5404 - val_loss: 0.5396\n",
            "Epoch 99/100\n",
            "5197/5197 [==============================] - 0s 19us/sample - loss: 0.5371 - val_loss: 0.5430\n",
            "Epoch 100/100\n",
            "5197/5197 [==============================] - 0s 20us/sample - loss: 0.5476 - val_loss: 0.5951\n",
            "Final training loss: 0.5475856655144522\n",
            "Final Validation loss: 0.5950681888140165\n"
          ]
        },
        {
          "output_type": "execute_result",
          "data": {
            "text/plain": [
              "(0.4, 1)"
            ]
          },
          "metadata": {},
          "execution_count": 91
        },
        {
          "output_type": "display_data",
          "data": {
            "image/png": "[encoded data removed]",
            "text/plain": [
              "<Figure size 432x288 with 1 Axes>"
            ]
          },
          "metadata": {
            "needs_background": "light"
          }
        }
      ]
    },
    {
      "cell_type": "markdown",
      "metadata": {
        "id": "eClRDcGVudk2"
      },
      "source": [
        "## Results"
      ]
    },
    {
      "cell_type": "markdown",
      "metadata": {
        "id": "nkM7MT8XLEd6"
      },
      "source": [
        "If you train for long enough, the minimum achievable MSE is around 0.52, which is a decrease of 0.04 from the previous best loss of 0.56. This decrease probably isn't worth the performance and complexity cost of using all your features and a deeper network. However, that decision depends on the objectives you're optimizing for.\n",
        "\n",
        "If you train the model long enough, the validation loss actually starts increasing while training loss continues to decrease. This divergence in loss curves means your model is overfitting. The overfitting results from the closer fit that your very complex model can learn. Stick with the simpler model. You'll be happier and live longer!\n",
        "\n",
        "If you do want to optimize your loss, then play with the model to find the minimum achievable training loss before overfitting sets in. Try playing with the network parameters in the code cell above to achieve a loss of 0.51. But be warned—optimizing your loss could take a lot of trial and error.."
      ]
    },
    {
      "cell_type": "markdown",
      "metadata": {
        "id": "yT7i3BdqvzKO"
      },
      "source": [
        "# Conclusion\n",
        "\n",
        "This Colab demonstrated the following principles:\n",
        "\n",
        "* The most important step in machine learning is understanding your data.\n",
        "* The largest gains come from the initial features and network.\n",
        "* Returns diminish as you add features and complexity.\n",
        "* Incremental development provides confidence in model quality and allows benchmarking against previous results.\n",
        "* Reproducing previous results is extremely important. Hence, always use version control."
      ]
    }
  ]
}