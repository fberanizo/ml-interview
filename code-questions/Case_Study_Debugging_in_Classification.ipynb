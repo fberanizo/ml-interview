{
  "nbformat": 4,
  "nbformat_minor": 0,
  "metadata": {
    "colab": {
      "name": "Cópia de Case Study: Debugging in Classification.ipynb",
      "provenance": [],
      "collapsed_sections": [
        "vrr7QBAu_oeC"
      ]
    },
    "kernelspec": {
      "display_name": "Python 2",
      "name": "python2"
    }
  },
  "cells": [
    {
      "cell_type": "markdown",
      "metadata": {
        "id": "vrr7QBAu_oeC"
      },
      "source": [
        "#### Copyright 2018 Google LLC."
      ]
    },
    {
      "cell_type": "code",
      "metadata": {
        "cellView": "both",
        "id": "36xim66b_oeE"
      },
      "source": [
        "# Licensed under the Apache License, Version 2.0 (the \"License\");\n",
        "# you may not use this file except in compliance with the License.\n",
        "# You may obtain a copy of the License at\n",
        "#\n",
        "# https://www.apache.org/licenses/LICENSE-2.0\n",
        "#\n",
        "# Unless required by applicable law or agreed to in writing, software\n",
        "# distributed under the License is distributed on an \"AS IS\" BASIS,\n",
        "# WITHOUT WARRANTIES OR CONDITIONS OF ANY KIND, either express or implied.\n",
        "# See the License for the specific language governing permissions and\n",
        "# limitations under the License."
      ],
      "execution_count": null,
      "outputs": []
    },
    {
      "cell_type": "markdown",
      "metadata": {
        "id": "MvIx0zxzE93Y"
      },
      "source": [
        "# Case Study: Debugging in Classification"
      ]
    },
    {
      "cell_type": "markdown",
      "metadata": {
        "id": "9tNgLQzd1QHX"
      },
      "source": [
        "This Colab quickly demonstrates a few concepts related to debugging classification models. You will explore potential problems in implementing these tasks:\n",
        "\n",
        "* Calculating loss for classification problems.\n",
        "* Optimizing your model\n",
        "* Applying regularization.\n",
        "* Following best practices in development and debugging.\n",
        "\n",
        "Please **make a copy** of this Colab before running it. Click on *File*, and then click on *Save a copy in Drive*."
      ]
    },
    {
      "cell_type": "markdown",
      "metadata": {
        "id": "0X7dDkLFFCYT"
      },
      "source": [
        "## Load MNIST Data"
      ]
    },
    {
      "cell_type": "markdown",
      "metadata": {
        "id": "vmtkGlmC0a0O"
      },
      "source": [
        "MNIST is a dataset of images of the numbers 0 to 9. The problem is to classify the images as numbers. Setup libraries and load the MNIST dataset. Display the first few rows to verify that the data loaded. You'll explore the data format after the data loads."
      ]
    },
    {
      "cell_type": "code",
      "metadata": {
        "id": "RNYSqbAcFOIs",
        "colab": {
          "base_uri": "https://localhost:8080/",
          "height": 233
        },
        "outputId": "fe5693b8-f8d9-4910-8269-a991f788c3e1"
      },
      "source": [
        "# Reset environment for a new run\n",
        "% reset -f\n",
        "\n",
        "# Load Libraries\n",
        "from os.path import join # for joining file pathnames\n",
        "import pandas as pd\n",
        "import tensorflow as tf\n",
        "from tensorflow import keras\n",
        "import numpy as np\n",
        "import matplotlib.pyplot as plt\n",
        "import unittest\n",
        "import sys\n",
        "\n",
        "# Set Pandas display options\n",
        "pd.options.display.max_rows = 10\n",
        "pd.options.display.float_format = '{:.1f}'.format\n",
        "\n",
        "# Load data\n",
        "mnistDf_backup = pd.read_csv(\n",
        "  \"https://download.mlcc.google.com/mledu-datasets/mnist_train_small.csv\",\n",
        "  sep=\",\",\n",
        "  header=None)\n",
        "# Shuffle data\n",
        "mnistDf_backup.sample(frac=1).reset_index(drop=True)\n",
        "# Use the first 5000 examples for faster prototyping\n",
        "mnistDf = mnistDf_backup[0:5000]\n",
        "\n",
        "mnistDf.head()"
      ],
      "execution_count": 4,
      "outputs": [
        {
          "output_type": "execute_result",
          "data": {
            "text/plain": [
              "   0    1    2    3    4    5    6    7    8    9    ...  775  776  777  778  \\\n",
              "0    6    0    0    0    0    0    0    0    0    0  ...    0    0    0    0   \n",
              "1    5    0    0    0    0    0    0    0    0    0  ...    0    0    0    0   \n",
              "2    7    0    0    0    0    0    0    0    0    0  ...    0    0    0    0   \n",
              "3    9    0    0    0    0    0    0    0    0    0  ...    0    0    0    0   \n",
              "4    5    0    0    0    0    0    0    0    0    0  ...    0    0    0    0   \n",
              "\n",
              "   779  780  781  782  783  784  \n",
              "0    0    0    0    0    0    0  \n",
              "1    0    0    0    0    0    0  \n",
              "2    0    0    0    0    0    0  \n",
              "3    0    0    0    0    0    0  \n",
              "4    0    0    0    0    0    0  \n",
              "\n",
              "[5 rows x 785 columns]"
            ],
            "text/html": [
              "<div>\n",
              "<style scoped>\n",
              "    .dataframe tbody tr th:only-of-type {\n",
              "        vertical-align: middle;\n",
              "    }\n",
              "\n",
              "    .dataframe tbody tr th {\n",
              "        vertical-align: top;\n",
              "    }\n",
              "\n",
              "    .dataframe thead th {\n",
              "        text-align: right;\n",
              "    }\n",
              "</style>\n",
              "<table border=\"1\" class=\"dataframe\">\n",
              "  <thead>\n",
              "    <tr style=\"text-align: right;\">\n",
              "      <th></th>\n",
              "      <th>0</th>\n",
              "      <th>1</th>\n",
              "      <th>2</th>\n",
              "      <th>3</th>\n",
              "      <th>4</th>\n",
              "      <th>5</th>\n",
              "      <th>6</th>\n",
              "      <th>7</th>\n",
              "      <th>8</th>\n",
              "      <th>9</th>\n",
              "      <th>...</th>\n",
              "      <th>775</th>\n",
              "      <th>776</th>\n",
              "      <th>777</th>\n",
              "      <th>778</th>\n",
              "      <th>779</th>\n",
              "      <th>780</th>\n",
              "      <th>781</th>\n",
              "      <th>782</th>\n",
              "      <th>783</th>\n",
              "      <th>784</th>\n",
              "    </tr>\n",
              "  </thead>\n",
              "  <tbody>\n",
              "    <tr>\n",
              "      <th>0</th>\n",
              "      <td>6</td>\n",
              "      <td>0</td>\n",
              "      <td>0</td>\n",
              "      <td>0</td>\n",
              "      <td>0</td>\n",
              "      <td>0</td>\n",
              "      <td>0</td>\n",
              "      <td>0</td>\n",
              "      <td>0</td>\n",
              "      <td>0</td>\n",
              "      <td>...</td>\n",
              "      <td>0</td>\n",
              "      <td>0</td>\n",
              "      <td>0</td>\n",
              "      <td>0</td>\n",
              "      <td>0</td>\n",
              "      <td>0</td>\n",
              "      <td>0</td>\n",
              "      <td>0</td>\n",
              "      <td>0</td>\n",
              "      <td>0</td>\n",
              "    </tr>\n",
              "    <tr>\n",
              "      <th>1</th>\n",
              "      <td>5</td>\n",
              "      <td>0</td>\n",
              "      <td>0</td>\n",
              "      <td>0</td>\n",
              "      <td>0</td>\n",
              "      <td>0</td>\n",
              "      <td>0</td>\n",
              "      <td>0</td>\n",
              "      <td>0</td>\n",
              "      <td>0</td>\n",
              "      <td>...</td>\n",
              "      <td>0</td>\n",
              "      <td>0</td>\n",
              "      <td>0</td>\n",
              "      <td>0</td>\n",
              "      <td>0</td>\n",
              "      <td>0</td>\n",
              "      <td>0</td>\n",
              "      <td>0</td>\n",
              "      <td>0</td>\n",
              "      <td>0</td>\n",
              "    </tr>\n",
              "    <tr>\n",
              "      <th>2</th>\n",
              "      <td>7</td>\n",
              "      <td>0</td>\n",
              "      <td>0</td>\n",
              "      <td>0</td>\n",
              "      <td>0</td>\n",
              "      <td>0</td>\n",
              "      <td>0</td>\n",
              "      <td>0</td>\n",
              "      <td>0</td>\n",
              "      <td>0</td>\n",
              "      <td>...</td>\n",
              "      <td>0</td>\n",
              "      <td>0</td>\n",
              "      <td>0</td>\n",
              "      <td>0</td>\n",
              "      <td>0</td>\n",
              "      <td>0</td>\n",
              "      <td>0</td>\n",
              "      <td>0</td>\n",
              "      <td>0</td>\n",
              "      <td>0</td>\n",
              "    </tr>\n",
              "    <tr>\n",
              "      <th>3</th>\n",
              "      <td>9</td>\n",
              "      <td>0</td>\n",
              "      <td>0</td>\n",
              "      <td>0</td>\n",
              "      <td>0</td>\n",
              "      <td>0</td>\n",
              "      <td>0</td>\n",
              "      <td>0</td>\n",
              "      <td>0</td>\n",
              "      <td>0</td>\n",
              "      <td>...</td>\n",
              "      <td>0</td>\n",
              "      <td>0</td>\n",
              "      <td>0</td>\n",
              "      <td>0</td>\n",
              "      <td>0</td>\n",
              "      <td>0</td>\n",
              "      <td>0</td>\n",
              "      <td>0</td>\n",
              "      <td>0</td>\n",
              "      <td>0</td>\n",
              "    </tr>\n",
              "    <tr>\n",
              "      <th>4</th>\n",
              "      <td>5</td>\n",
              "      <td>0</td>\n",
              "      <td>0</td>\n",
              "      <td>0</td>\n",
              "      <td>0</td>\n",
              "      <td>0</td>\n",
              "      <td>0</td>\n",
              "      <td>0</td>\n",
              "      <td>0</td>\n",
              "      <td>0</td>\n",
              "      <td>...</td>\n",
              "      <td>0</td>\n",
              "      <td>0</td>\n",
              "      <td>0</td>\n",
              "      <td>0</td>\n",
              "      <td>0</td>\n",
              "      <td>0</td>\n",
              "      <td>0</td>\n",
              "      <td>0</td>\n",
              "      <td>0</td>\n",
              "      <td>0</td>\n",
              "    </tr>\n",
              "  </tbody>\n",
              "</table>\n",
              "<p>5 rows × 785 columns</p>\n",
              "</div>"
            ]
          },
          "metadata": {},
          "execution_count": 4
        }
      ]
    },
    {
      "cell_type": "markdown",
      "metadata": {
        "id": "Z70hEJlEGyMJ"
      },
      "source": [
        "## Understanding the Data Format"
      ]
    },
    {
      "cell_type": "markdown",
      "metadata": {
        "id": "kg0-25p2mOi0"
      },
      "source": [
        "Each row represents one labeled example. Column 0 represents the label that a human rater has assigned for one handwritten digit. For example, if Column 0 contains '6', then a human rater interpreted the handwritten character as the digit '6'.  The ten digits 0-9 are each represented, with a unique class label for each possible digit. Thus, this is a multi-class classification problem with 10 classes."
      ]
    },
    {
      "cell_type": "markdown",
      "metadata": {
        "id": "PQ7vuOwRCsZ1"
      },
      "source": [
        "![img](https://www.tensorflow.org/versions/r0.11/images/MNIST-Matrix.png)"
      ]
    },
    {
      "cell_type": "markdown",
      "metadata": {
        "id": "dghlqJPIu8UM"
      },
      "source": [
        "Columns 1 through 784 contain the feature values, one per pixel for the 28×28=784 pixel values. The pixel values are on a gray scale in which 0 represents white, 255 represents black, and values between 0 and 255 represent shades of gray. Most of the pixel values are 0; you may want to take a minute to confirm that they aren't all 0.  Modify the form below and run the code to view data for a given example."
      ]
    },
    {
      "cell_type": "code",
      "metadata": {
        "id": "2ZkrL5MCqiJI",
        "colab": {
          "base_uri": "https://localhost:8080/",
          "height": 476
        },
        "outputId": "3833f265-6f9e-45f9-a1e8-cb2122e90f98"
      },
      "source": [
        "showExample = 0 # @param\n",
        "digitData = np.reshape(mnistDf.iloc[showExample,0:-1],[28,28])\n",
        "print digitData"
      ],
      "execution_count": 6,
      "outputs": [
        {
          "output_type": "error",
          "ename": "KeyError",
          "evalue": "ignored",
          "traceback": [
            "\u001b[0;31m\u001b[0m",
            "\u001b[0;31mKeyError\u001b[0mTraceback (most recent call last)",
            "\u001b[0;32m<ipython-input-6-e65fe620e59c>\u001b[0m in \u001b[0;36m<module>\u001b[0;34m()\u001b[0m\n\u001b[1;32m      1\u001b[0m \u001b[0mshowExample\u001b[0m \u001b[0;34m=\u001b[0m \u001b[0;36m0\u001b[0m \u001b[0;31m# @param\u001b[0m\u001b[0;34m\u001b[0m\u001b[0m\n\u001b[0;32m----> 2\u001b[0;31m \u001b[0mdigitData\u001b[0m \u001b[0;34m=\u001b[0m \u001b[0mnp\u001b[0m\u001b[0;34m.\u001b[0m\u001b[0mreshape\u001b[0m\u001b[0;34m(\u001b[0m\u001b[0mmnistDf\u001b[0m\u001b[0;34m.\u001b[0m\u001b[0miloc\u001b[0m\u001b[0;34m[\u001b[0m\u001b[0mshowExample\u001b[0m\u001b[0;34m,\u001b[0m\u001b[0;36m0\u001b[0m\u001b[0;34m:\u001b[0m\u001b[0;34m-\u001b[0m\u001b[0;36m1\u001b[0m\u001b[0;34m]\u001b[0m\u001b[0;34m[\u001b[0m\u001b[0;36m28\u001b[0m\u001b[0;34m,\u001b[0m\u001b[0;36m28\u001b[0m\u001b[0;34m]\u001b[0m\u001b[0;34m)\u001b[0m\u001b[0;34m\u001b[0m\u001b[0m\n\u001b[0m\u001b[1;32m      3\u001b[0m \u001b[0;32mprint\u001b[0m \u001b[0mdigitData\u001b[0m\u001b[0;34m\u001b[0m\u001b[0m\n",
            "\u001b[0;32m/usr/local/lib/python2.7/dist-packages/pandas/core/series.pyc\u001b[0m in \u001b[0;36m__getitem__\u001b[0;34m(self, key)\u001b[0m\n\u001b[1;32m    866\u001b[0m         \u001b[0mkey\u001b[0m \u001b[0;34m=\u001b[0m \u001b[0mcom\u001b[0m\u001b[0;34m.\u001b[0m\u001b[0mapply_if_callable\u001b[0m\u001b[0;34m(\u001b[0m\u001b[0mkey\u001b[0m\u001b[0;34m,\u001b[0m \u001b[0mself\u001b[0m\u001b[0;34m)\u001b[0m\u001b[0;34m\u001b[0m\u001b[0m\n\u001b[1;32m    867\u001b[0m         \u001b[0;32mtry\u001b[0m\u001b[0;34m:\u001b[0m\u001b[0;34m\u001b[0m\u001b[0m\n\u001b[0;32m--> 868\u001b[0;31m             \u001b[0mresult\u001b[0m \u001b[0;34m=\u001b[0m \u001b[0mself\u001b[0m\u001b[0;34m.\u001b[0m\u001b[0mindex\u001b[0m\u001b[0;34m.\u001b[0m\u001b[0mget_value\u001b[0m\u001b[0;34m(\u001b[0m\u001b[0mself\u001b[0m\u001b[0;34m,\u001b[0m \u001b[0mkey\u001b[0m\u001b[0;34m)\u001b[0m\u001b[0;34m\u001b[0m\u001b[0m\n\u001b[0m\u001b[1;32m    869\u001b[0m \u001b[0;34m\u001b[0m\u001b[0m\n\u001b[1;32m    870\u001b[0m             \u001b[0;32mif\u001b[0m \u001b[0;32mnot\u001b[0m \u001b[0mis_scalar\u001b[0m\u001b[0;34m(\u001b[0m\u001b[0mresult\u001b[0m\u001b[0;34m)\u001b[0m\u001b[0;34m:\u001b[0m\u001b[0;34m\u001b[0m\u001b[0m\n",
            "\u001b[0;32m/usr/local/lib/python2.7/dist-packages/pandas/core/indexes/base.pyc\u001b[0m in \u001b[0;36mget_value\u001b[0;34m(self, series, key)\u001b[0m\n\u001b[1;32m   4373\u001b[0m         \u001b[0;32mtry\u001b[0m\u001b[0;34m:\u001b[0m\u001b[0;34m\u001b[0m\u001b[0m\n\u001b[1;32m   4374\u001b[0m             return self._engine.get_value(s, k,\n\u001b[0;32m-> 4375\u001b[0;31m                                           tz=getattr(series.dtype, 'tz', None))\n\u001b[0m\u001b[1;32m   4376\u001b[0m         \u001b[0;32mexcept\u001b[0m \u001b[0mKeyError\u001b[0m \u001b[0;32mas\u001b[0m \u001b[0me1\u001b[0m\u001b[0;34m:\u001b[0m\u001b[0;34m\u001b[0m\u001b[0m\n\u001b[1;32m   4377\u001b[0m             \u001b[0;32mif\u001b[0m \u001b[0mlen\u001b[0m\u001b[0;34m(\u001b[0m\u001b[0mself\u001b[0m\u001b[0;34m)\u001b[0m \u001b[0;34m>\u001b[0m \u001b[0;36m0\u001b[0m \u001b[0;32mand\u001b[0m \u001b[0;34m(\u001b[0m\u001b[0mself\u001b[0m\u001b[0;34m.\u001b[0m\u001b[0mholds_integer\u001b[0m\u001b[0;34m(\u001b[0m\u001b[0;34m)\u001b[0m \u001b[0;32mor\u001b[0m \u001b[0mself\u001b[0m\u001b[0;34m.\u001b[0m\u001b[0mis_boolean\u001b[0m\u001b[0;34m(\u001b[0m\u001b[0;34m)\u001b[0m\u001b[0;34m)\u001b[0m\u001b[0;34m:\u001b[0m\u001b[0;34m\u001b[0m\u001b[0m\n",
            "\u001b[0;32mpandas/_libs/index.pyx\u001b[0m in \u001b[0;36mpandas._libs.index.IndexEngine.get_value\u001b[0;34m()\u001b[0m\n",
            "\u001b[0;32mpandas/_libs/index.pyx\u001b[0m in \u001b[0;36mpandas._libs.index.IndexEngine.get_value\u001b[0;34m()\u001b[0m\n",
            "\u001b[0;32mpandas/_libs/index.pyx\u001b[0m in \u001b[0;36mpandas._libs.index.IndexEngine.get_loc\u001b[0;34m()\u001b[0m\n",
            "\u001b[0;32mpandas/_libs/index_class_helper.pxi\u001b[0m in \u001b[0;36mpandas._libs.index.Int64Engine._check_type\u001b[0;34m()\u001b[0m\n",
            "\u001b[0;31mKeyError\u001b[0m: (28, 28)"
          ]
        }
      ]
    },
    {
      "cell_type": "markdown",
      "metadata": {
        "id": "NdGR7XJFG3SC"
      },
      "source": [
        "## Do you have Imbalanced Classes?"
      ]
    },
    {
      "cell_type": "markdown",
      "metadata": {
        "id": "iaCeo87dGq6F"
      },
      "source": [
        "As we read in the course, imbalanced classes make classification harder. Let's look at the distribution of classes. Do you have imbalanced classes?"
      ]
    },
    {
      "cell_type": "code",
      "metadata": {
        "id": "ovuBykz5GCHl",
        "colab": {
          "base_uri": "https://localhost:8080/",
          "height": 474
        },
        "outputId": "51ed912c-ab07-409d-db1a-54135c090273"
      },
      "source": [
        "#%hide_result # hides result of cell computation\n",
        "# Calculate the number of classes\n",
        "numClasses = mnistDf.iloc[:,0].unique().shape[0]\n",
        "# Plot histogram of class distribution\n",
        "plt.hist(mnistDf.iloc[:,0], bins=range(numClasses+1))\n",
        "plt.xticks(range(numClasses+1))"
      ],
      "execution_count": 8,
      "outputs": [
        {
          "output_type": "execute_result",
          "data": {
            "text/plain": [
              "([<matplotlib.axis.XTick at 0x7fb202dd1f90>,\n",
              "  <matplotlib.axis.XTick at 0x7fb202dd1a50>,\n",
              "  <matplotlib.axis.XTick at 0x7fb202dd13d0>,\n",
              "  <matplotlib.axis.XTick at 0x7fb202caaf50>,\n",
              "  <matplotlib.axis.XTick at 0x7fb202cc1350>,\n",
              "  <matplotlib.axis.XTick at 0x7fb202cc1890>,\n",
              "  <matplotlib.axis.XTick at 0x7fb202cc1e10>,\n",
              "  <matplotlib.axis.XTick at 0x7fb202d443d0>,\n",
              "  <matplotlib.axis.XTick at 0x7fb202d44950>,\n",
              "  <matplotlib.axis.XTick at 0x7fb202d44ed0>,\n",
              "  <matplotlib.axis.XTick at 0x7fb202d4c490>],\n",
              " <a list of 11 Text xticklabel objects>)"
            ]
          },
          "metadata": {},
          "execution_count": 8
        },
        {
          "output_type": "display_data",
          "data": {
            "image/png": "[encoded data removed]",
            "text/plain": [
              "<Figure size 432x288 with 1 Axes>"
            ]
          },
          "metadata": {
            "needs_background": "light"
          }
        }
      ]
    },
    {
      "cell_type": "markdown",
      "metadata": {
        "id": "a7b5jJzMFd9f"
      },
      "source": [
        "The preceding graph shows that the 10 classes are roughly equally represented."
      ]
    },
    {
      "cell_type": "markdown",
      "metadata": {
        "id": "Z9gUThwlOjRu"
      },
      "source": [
        "## Shuffle and Split Dataset"
      ]
    },
    {
      "cell_type": "markdown",
      "metadata": {
        "id": "yPd1qfBGOmot"
      },
      "source": [
        "As part of [Data Debugging](https://developers.google.com/machine-learning/testing-debugging/common/data-errors) best practices, ensure your splits are statistically equivalent by shuffling your data to remove any pre-existing order."
      ]
    },
    {
      "cell_type": "code",
      "metadata": {
        "id": "9dKZM0l8Om_Q"
      },
      "source": [
        "# Shuffle data\n",
        "mnistDf = mnistDf.sample(frac=1).reset_index(drop=True)\n",
        "\n",
        "# Split dataset into data and labels\n",
        "mnistData = mnistDf.iloc[:,1:-1].copy(deep=True)\n",
        "mnistLabels = mnistDf.iloc[:,0].copy(deep=True)"
      ],
      "execution_count": 9,
      "outputs": []
    },
    {
      "cell_type": "markdown",
      "metadata": {
        "id": "i7cOxjDqJW1r"
      },
      "source": [
        "## Process Data"
      ]
    },
    {
      "cell_type": "markdown",
      "metadata": {
        "id": "T8Hsfx4OJh4J"
      },
      "source": [
        "Scale the data values to `[0,1]` since the values are bounded to `[0,255]` and do not contain outliers. Then check that the scaled data values are as expected by generating summary statistics using the `DataFrame.describe()` function.\n",
        "\n",
        "Run the following cell to scale data and generate statistics. This cell takes a few minutes to run."
      ]
    },
    {
      "cell_type": "code",
      "metadata": {
        "id": "xz6glQVeJhGa",
        "colab": {
          "base_uri": "https://localhost:8080/",
          "height": 326
        },
        "outputId": "37bf3331-9b26-45fc-8a3c-59c06a26de86"
      },
      "source": [
        "def minMaxScaler(arr):\n",
        "  min = np.min(arr)\n",
        "  max = np.max(arr)\n",
        "  arr = (arr-min)/max\n",
        "  return arr\n",
        "\n",
        "for featureIdx in range(mnistData.shape[1]):\n",
        "  mnistData.iloc[:,featureIdx] = minMaxScaler(mnistData.iloc[:,featureIdx])\n",
        "\n",
        "mnistData.describe()"
      ],
      "execution_count": 10,
      "outputs": [
        {
          "output_type": "execute_result",
          "data": {
            "text/plain": [
              "       1    2    3    4    5    6    7    8    9    10   ...    774    775  \\\n",
              "count  0.0  0.0  0.0  0.0  0.0  0.0  0.0  0.0  0.0  0.0  ... 5000.0 5000.0   \n",
              "mean   nan  nan  nan  nan  nan  nan  nan  nan  nan  nan  ...    0.0    0.0   \n",
              "std    nan  nan  nan  nan  nan  nan  nan  nan  nan  nan  ...    0.0    0.0   \n",
              "min    nan  nan  nan  nan  nan  nan  nan  nan  nan  nan  ...    0.0    0.0   \n",
              "25%    nan  nan  nan  nan  nan  nan  nan  nan  nan  nan  ...    0.0    0.0   \n",
              "50%    nan  nan  nan  nan  nan  nan  nan  nan  nan  nan  ...    0.0    0.0   \n",
              "75%    nan  nan  nan  nan  nan  nan  nan  nan  nan  nan  ...    0.0    0.0   \n",
              "max    nan  nan  nan  nan  nan  nan  nan  nan  nan  nan  ...    1.0    1.0   \n",
              "\n",
              "         776    777    778    779    780  781  782  783  \n",
              "count 5000.0 5000.0 5000.0 5000.0 5000.0  0.0  0.0  0.0  \n",
              "mean     0.0    0.0    0.0    0.0    0.0  nan  nan  nan  \n",
              "std      0.0    0.0    0.0    0.0    0.0  nan  nan  nan  \n",
              "min      0.0    0.0    0.0    0.0    0.0  nan  nan  nan  \n",
              "25%      0.0    0.0    0.0    0.0    0.0  nan  nan  nan  \n",
              "50%      0.0    0.0    0.0    0.0    0.0  nan  nan  nan  \n",
              "75%      0.0    0.0    0.0    0.0    0.0  nan  nan  nan  \n",
              "max      1.0    1.0    1.0    1.0    1.0  nan  nan  nan  \n",
              "\n",
              "[8 rows x 783 columns]"
            ],
            "text/html": [
              "<div>\n",
              "<style scoped>\n",
              "    .dataframe tbody tr th:only-of-type {\n",
              "        vertical-align: middle;\n",
              "    }\n",
              "\n",
              "    .dataframe tbody tr th {\n",
              "        vertical-align: top;\n",
              "    }\n",
              "\n",
              "    .dataframe thead th {\n",
              "        text-align: right;\n",
              "    }\n",
              "</style>\n",
              "<table border=\"1\" class=\"dataframe\">\n",
              "  <thead>\n",
              "    <tr style=\"text-align: right;\">\n",
              "      <th></th>\n",
              "      <th>1</th>\n",
              "      <th>2</th>\n",
              "      <th>3</th>\n",
              "      <th>4</th>\n",
              "      <th>5</th>\n",
              "      <th>6</th>\n",
              "      <th>7</th>\n",
              "      <th>8</th>\n",
              "      <th>9</th>\n",
              "      <th>10</th>\n",
              "      <th>...</th>\n",
              "      <th>774</th>\n",
              "      <th>775</th>\n",
              "      <th>776</th>\n",
              "      <th>777</th>\n",
              "      <th>778</th>\n",
              "      <th>779</th>\n",
              "      <th>780</th>\n",
              "      <th>781</th>\n",
              "      <th>782</th>\n",
              "      <th>783</th>\n",
              "    </tr>\n",
              "  </thead>\n",
              "  <tbody>\n",
              "    <tr>\n",
              "      <th>count</th>\n",
              "      <td>0.0</td>\n",
              "      <td>0.0</td>\n",
              "      <td>0.0</td>\n",
              "      <td>0.0</td>\n",
              "      <td>0.0</td>\n",
              "      <td>0.0</td>\n",
              "      <td>0.0</td>\n",
              "      <td>0.0</td>\n",
              "      <td>0.0</td>\n",
              "      <td>0.0</td>\n",
              "      <td>...</td>\n",
              "      <td>5000.0</td>\n",
              "      <td>5000.0</td>\n",
              "      <td>5000.0</td>\n",
              "      <td>5000.0</td>\n",
              "      <td>5000.0</td>\n",
              "      <td>5000.0</td>\n",
              "      <td>5000.0</td>\n",
              "      <td>0.0</td>\n",
              "      <td>0.0</td>\n",
              "      <td>0.0</td>\n",
              "    </tr>\n",
              "    <tr>\n",
              "      <th>mean</th>\n",
              "      <td>nan</td>\n",
              "      <td>nan</td>\n",
              "      <td>nan</td>\n",
              "      <td>nan</td>\n",
              "      <td>nan</td>\n",
              "      <td>nan</td>\n",
              "      <td>nan</td>\n",
              "      <td>nan</td>\n",
              "      <td>nan</td>\n",
              "      <td>nan</td>\n",
              "      <td>...</td>\n",
              "      <td>0.0</td>\n",
              "      <td>0.0</td>\n",
              "      <td>0.0</td>\n",
              "      <td>0.0</td>\n",
              "      <td>0.0</td>\n",
              "      <td>0.0</td>\n",
              "      <td>0.0</td>\n",
              "      <td>nan</td>\n",
              "      <td>nan</td>\n",
              "      <td>nan</td>\n",
              "    </tr>\n",
              "    <tr>\n",
              "      <th>std</th>\n",
              "      <td>nan</td>\n",
              "      <td>nan</td>\n",
              "      <td>nan</td>\n",
              "      <td>nan</td>\n",
              "      <td>nan</td>\n",
              "      <td>nan</td>\n",
              "      <td>nan</td>\n",
              "      <td>nan</td>\n",
              "      <td>nan</td>\n",
              "      <td>nan</td>\n",
              "      <td>...</td>\n",
              "      <td>0.0</td>\n",
              "      <td>0.0</td>\n",
              "      <td>0.0</td>\n",
              "      <td>0.0</td>\n",
              "      <td>0.0</td>\n",
              "      <td>0.0</td>\n",
              "      <td>0.0</td>\n",
              "      <td>nan</td>\n",
              "      <td>nan</td>\n",
              "      <td>nan</td>\n",
              "    </tr>\n",
              "    <tr>\n",
              "      <th>min</th>\n",
              "      <td>nan</td>\n",
              "      <td>nan</td>\n",
              "      <td>nan</td>\n",
              "      <td>nan</td>\n",
              "      <td>nan</td>\n",
              "      <td>nan</td>\n",
              "      <td>nan</td>\n",
              "      <td>nan</td>\n",
              "      <td>nan</td>\n",
              "      <td>nan</td>\n",
              "      <td>...</td>\n",
              "      <td>0.0</td>\n",
              "      <td>0.0</td>\n",
              "      <td>0.0</td>\n",
              "      <td>0.0</td>\n",
              "      <td>0.0</td>\n",
              "      <td>0.0</td>\n",
              "      <td>0.0</td>\n",
              "      <td>nan</td>\n",
              "      <td>nan</td>\n",
              "      <td>nan</td>\n",
              "    </tr>\n",
              "    <tr>\n",
              "      <th>25%</th>\n",
              "      <td>nan</td>\n",
              "      <td>nan</td>\n",
              "      <td>nan</td>\n",
              "      <td>nan</td>\n",
              "      <td>nan</td>\n",
              "      <td>nan</td>\n",
              "      <td>nan</td>\n",
              "      <td>nan</td>\n",
              "      <td>nan</td>\n",
              "      <td>nan</td>\n",
              "      <td>...</td>\n",
              "      <td>0.0</td>\n",
              "      <td>0.0</td>\n",
              "      <td>0.0</td>\n",
              "      <td>0.0</td>\n",
              "      <td>0.0</td>\n",
              "      <td>0.0</td>\n",
              "      <td>0.0</td>\n",
              "      <td>nan</td>\n",
              "      <td>nan</td>\n",
              "      <td>nan</td>\n",
              "    </tr>\n",
              "    <tr>\n",
              "      <th>50%</th>\n",
              "      <td>nan</td>\n",
              "      <td>nan</td>\n",
              "      <td>nan</td>\n",
              "      <td>nan</td>\n",
              "      <td>nan</td>\n",
              "      <td>nan</td>\n",
              "      <td>nan</td>\n",
              "      <td>nan</td>\n",
              "      <td>nan</td>\n",
              "      <td>nan</td>\n",
              "      <td>...</td>\n",
              "      <td>0.0</td>\n",
              "      <td>0.0</td>\n",
              "      <td>0.0</td>\n",
              "      <td>0.0</td>\n",
              "      <td>0.0</td>\n",
              "      <td>0.0</td>\n",
              "      <td>0.0</td>\n",
              "      <td>nan</td>\n",
              "      <td>nan</td>\n",
              "      <td>nan</td>\n",
              "    </tr>\n",
              "    <tr>\n",
              "      <th>75%</th>\n",
              "      <td>nan</td>\n",
              "      <td>nan</td>\n",
              "      <td>nan</td>\n",
              "      <td>nan</td>\n",
              "      <td>nan</td>\n",
              "      <td>nan</td>\n",
              "      <td>nan</td>\n",
              "      <td>nan</td>\n",
              "      <td>nan</td>\n",
              "      <td>nan</td>\n",
              "      <td>...</td>\n",
              "      <td>0.0</td>\n",
              "      <td>0.0</td>\n",
              "      <td>0.0</td>\n",
              "      <td>0.0</td>\n",
              "      <td>0.0</td>\n",
              "      <td>0.0</td>\n",
              "      <td>0.0</td>\n",
              "      <td>nan</td>\n",
              "      <td>nan</td>\n",
              "      <td>nan</td>\n",
              "    </tr>\n",
              "    <tr>\n",
              "      <th>max</th>\n",
              "      <td>nan</td>\n",
              "      <td>nan</td>\n",
              "      <td>nan</td>\n",
              "      <td>nan</td>\n",
              "      <td>nan</td>\n",
              "      <td>nan</td>\n",
              "      <td>nan</td>\n",
              "      <td>nan</td>\n",
              "      <td>nan</td>\n",
              "      <td>nan</td>\n",
              "      <td>...</td>\n",
              "      <td>1.0</td>\n",
              "      <td>1.0</td>\n",
              "      <td>1.0</td>\n",
              "      <td>1.0</td>\n",
              "      <td>1.0</td>\n",
              "      <td>1.0</td>\n",
              "      <td>1.0</td>\n",
              "      <td>nan</td>\n",
              "      <td>nan</td>\n",
              "      <td>nan</td>\n",
              "    </tr>\n",
              "  </tbody>\n",
              "</table>\n",
              "<p>8 rows × 783 columns</p>\n",
              "</div>"
            ]
          },
          "metadata": {},
          "execution_count": 10
        }
      ]
    },
    {
      "cell_type": "markdown",
      "metadata": {
        "id": "ja7-yiPaNSqQ"
      },
      "source": [
        "Oh no! Some of your features are all `NaN`. What do you think the cause is? Hint: While NaNs have many causes, in this case, the NaN values are caused by the properties of your data. Use the next code cell to explore your data. Then check the next cell for the solution. Try to find the solution yourself. Debugging `NaN`s and exploring your data are important skills."
      ]
    },
    {
      "cell_type": "code",
      "metadata": {
        "id": "MDcTFax_FaAh"
      },
      "source": [
        "# First reload your data\n",
        "mnistData = mnistDf.iloc[:,1:-1].copy(deep=True)"
      ],
      "execution_count": 11,
      "outputs": []
    },
    {
      "cell_type": "code",
      "metadata": {
        "id": "lPRf41XwNlSJ",
        "colab": {
          "base_uri": "https://localhost:8080/",
          "height": 326
        },
        "outputId": "0fe12561-8c4b-44af-d59e-bc986ec246fd"
      },
      "source": [
        "# Explore your data\n",
        "mnistData.describe()"
      ],
      "execution_count": 16,
      "outputs": [
        {
          "output_type": "execute_result",
          "data": {
            "text/plain": [
              "         1      2      3      4      5      6      7      8      9      10   \\\n",
              "count 5000.0 5000.0 5000.0 5000.0 5000.0 5000.0 5000.0 5000.0 5000.0 5000.0   \n",
              "mean     0.0    0.0    0.0    0.0    0.0    0.0    0.0    0.0    0.0    0.0   \n",
              "std      0.0    0.0    0.0    0.0    0.0    0.0    0.0    0.0    0.0    0.0   \n",
              "min      0.0    0.0    0.0    0.0    0.0    0.0    0.0    0.0    0.0    0.0   \n",
              "25%      0.0    0.0    0.0    0.0    0.0    0.0    0.0    0.0    0.0    0.0   \n",
              "50%      0.0    0.0    0.0    0.0    0.0    0.0    0.0    0.0    0.0    0.0   \n",
              "75%      0.0    0.0    0.0    0.0    0.0    0.0    0.0    0.0    0.0    0.0   \n",
              "max      0.0    0.0    0.0    0.0    0.0    0.0    0.0    0.0    0.0    0.0   \n",
              "\n",
              "       ...    774    775    776    777    778    779    780    781    782  \\\n",
              "count  ... 5000.0 5000.0 5000.0 5000.0 5000.0 5000.0 5000.0 5000.0 5000.0   \n",
              "mean   ...    0.5    0.3    0.1    0.0    0.0    0.0    0.0    0.0    0.0   \n",
              "std    ...    9.4    7.7    5.2    1.0    0.6    3.5    0.9    0.0    0.0   \n",
              "min    ...    0.0    0.0    0.0    0.0    0.0    0.0    0.0    0.0    0.0   \n",
              "25%    ...    0.0    0.0    0.0    0.0    0.0    0.0    0.0    0.0    0.0   \n",
              "50%    ...    0.0    0.0    0.0    0.0    0.0    0.0    0.0    0.0    0.0   \n",
              "75%    ...    0.0    0.0    0.0    0.0    0.0    0.0    0.0    0.0    0.0   \n",
              "max    ...  254.0  253.0  254.0   68.0   43.0  244.0   62.0    0.0    0.0   \n",
              "\n",
              "         783  \n",
              "count 5000.0  \n",
              "mean     0.0  \n",
              "std      0.0  \n",
              "min      0.0  \n",
              "25%      0.0  \n",
              "50%      0.0  \n",
              "75%      0.0  \n",
              "max      0.0  \n",
              "\n",
              "[8 rows x 783 columns]"
            ],
            "text/html": [
              "<div>\n",
              "<style scoped>\n",
              "    .dataframe tbody tr th:only-of-type {\n",
              "        vertical-align: middle;\n",
              "    }\n",
              "\n",
              "    .dataframe tbody tr th {\n",
              "        vertical-align: top;\n",
              "    }\n",
              "\n",
              "    .dataframe thead th {\n",
              "        text-align: right;\n",
              "    }\n",
              "</style>\n",
              "<table border=\"1\" class=\"dataframe\">\n",
              "  <thead>\n",
              "    <tr style=\"text-align: right;\">\n",
              "      <th></th>\n",
              "      <th>1</th>\n",
              "      <th>2</th>\n",
              "      <th>3</th>\n",
              "      <th>4</th>\n",
              "      <th>5</th>\n",
              "      <th>6</th>\n",
              "      <th>7</th>\n",
              "      <th>8</th>\n",
              "      <th>9</th>\n",
              "      <th>10</th>\n",
              "      <th>...</th>\n",
              "      <th>774</th>\n",
              "      <th>775</th>\n",
              "      <th>776</th>\n",
              "      <th>777</th>\n",
              "      <th>778</th>\n",
              "      <th>779</th>\n",
              "      <th>780</th>\n",
              "      <th>781</th>\n",
              "      <th>782</th>\n",
              "      <th>783</th>\n",
              "    </tr>\n",
              "  </thead>\n",
              "  <tbody>\n",
              "    <tr>\n",
              "      <th>count</th>\n",
              "      <td>5000.0</td>\n",
              "      <td>5000.0</td>\n",
              "      <td>5000.0</td>\n",
              "      <td>5000.0</td>\n",
              "      <td>5000.0</td>\n",
              "      <td>5000.0</td>\n",
              "      <td>5000.0</td>\n",
              "      <td>5000.0</td>\n",
              "      <td>5000.0</td>\n",
              "      <td>5000.0</td>\n",
              "      <td>...</td>\n",
              "      <td>5000.0</td>\n",
              "      <td>5000.0</td>\n",
              "      <td>5000.0</td>\n",
              "      <td>5000.0</td>\n",
              "      <td>5000.0</td>\n",
              "      <td>5000.0</td>\n",
              "      <td>5000.0</td>\n",
              "      <td>5000.0</td>\n",
              "      <td>5000.0</td>\n",
              "      <td>5000.0</td>\n",
              "    </tr>\n",
              "    <tr>\n",
              "      <th>mean</th>\n",
              "      <td>0.0</td>\n",
              "      <td>0.0</td>\n",
              "      <td>0.0</td>\n",
              "      <td>0.0</td>\n",
              "      <td>0.0</td>\n",
              "      <td>0.0</td>\n",
              "      <td>0.0</td>\n",
              "      <td>0.0</td>\n",
              "      <td>0.0</td>\n",
              "      <td>0.0</td>\n",
              "      <td>...</td>\n",
              "      <td>0.5</td>\n",
              "      <td>0.3</td>\n",
              "      <td>0.1</td>\n",
              "      <td>0.0</td>\n",
              "      <td>0.0</td>\n",
              "      <td>0.0</td>\n",
              "      <td>0.0</td>\n",
              "      <td>0.0</td>\n",
              "      <td>0.0</td>\n",
              "      <td>0.0</td>\n",
              "    </tr>\n",
              "    <tr>\n",
              "      <th>std</th>\n",
              "      <td>0.0</td>\n",
              "      <td>0.0</td>\n",
              "      <td>0.0</td>\n",
              "      <td>0.0</td>\n",
              "      <td>0.0</td>\n",
              "      <td>0.0</td>\n",
              "      <td>0.0</td>\n",
              "      <td>0.0</td>\n",
              "      <td>0.0</td>\n",
              "      <td>0.0</td>\n",
              "      <td>...</td>\n",
              "      <td>9.4</td>\n",
              "      <td>7.7</td>\n",
              "      <td>5.2</td>\n",
              "      <td>1.0</td>\n",
              "      <td>0.6</td>\n",
              "      <td>3.5</td>\n",
              "      <td>0.9</td>\n",
              "      <td>0.0</td>\n",
              "      <td>0.0</td>\n",
              "      <td>0.0</td>\n",
              "    </tr>\n",
              "    <tr>\n",
              "      <th>min</th>\n",
              "      <td>0.0</td>\n",
              "      <td>0.0</td>\n",
              "      <td>0.0</td>\n",
              "      <td>0.0</td>\n",
              "      <td>0.0</td>\n",
              "      <td>0.0</td>\n",
              "      <td>0.0</td>\n",
              "      <td>0.0</td>\n",
              "      <td>0.0</td>\n",
              "      <td>0.0</td>\n",
              "      <td>...</td>\n",
              "      <td>0.0</td>\n",
              "      <td>0.0</td>\n",
              "      <td>0.0</td>\n",
              "      <td>0.0</td>\n",
              "      <td>0.0</td>\n",
              "      <td>0.0</td>\n",
              "      <td>0.0</td>\n",
              "      <td>0.0</td>\n",
              "      <td>0.0</td>\n",
              "      <td>0.0</td>\n",
              "    </tr>\n",
              "    <tr>\n",
              "      <th>25%</th>\n",
              "      <td>0.0</td>\n",
              "      <td>0.0</td>\n",
              "      <td>0.0</td>\n",
              "      <td>0.0</td>\n",
              "      <td>0.0</td>\n",
              "      <td>0.0</td>\n",
              "      <td>0.0</td>\n",
              "      <td>0.0</td>\n",
              "      <td>0.0</td>\n",
              "      <td>0.0</td>\n",
              "      <td>...</td>\n",
              "      <td>0.0</td>\n",
              "      <td>0.0</td>\n",
              "      <td>0.0</td>\n",
              "      <td>0.0</td>\n",
              "      <td>0.0</td>\n",
              "      <td>0.0</td>\n",
              "      <td>0.0</td>\n",
              "      <td>0.0</td>\n",
              "      <td>0.0</td>\n",
              "      <td>0.0</td>\n",
              "    </tr>\n",
              "    <tr>\n",
              "      <th>50%</th>\n",
              "      <td>0.0</td>\n",
              "      <td>0.0</td>\n",
              "      <td>0.0</td>\n",
              "      <td>0.0</td>\n",
              "      <td>0.0</td>\n",
              "      <td>0.0</td>\n",
              "      <td>0.0</td>\n",
              "      <td>0.0</td>\n",
              "      <td>0.0</td>\n",
              "      <td>0.0</td>\n",
              "      <td>...</td>\n",
              "      <td>0.0</td>\n",
              "      <td>0.0</td>\n",
              "      <td>0.0</td>\n",
              "      <td>0.0</td>\n",
              "      <td>0.0</td>\n",
              "      <td>0.0</td>\n",
              "      <td>0.0</td>\n",
              "      <td>0.0</td>\n",
              "      <td>0.0</td>\n",
              "      <td>0.0</td>\n",
              "    </tr>\n",
              "    <tr>\n",
              "      <th>75%</th>\n",
              "      <td>0.0</td>\n",
              "      <td>0.0</td>\n",
              "      <td>0.0</td>\n",
              "      <td>0.0</td>\n",
              "      <td>0.0</td>\n",
              "      <td>0.0</td>\n",
              "      <td>0.0</td>\n",
              "      <td>0.0</td>\n",
              "      <td>0.0</td>\n",
              "      <td>0.0</td>\n",
              "      <td>...</td>\n",
              "      <td>0.0</td>\n",
              "      <td>0.0</td>\n",
              "      <td>0.0</td>\n",
              "      <td>0.0</td>\n",
              "      <td>0.0</td>\n",
              "      <td>0.0</td>\n",
              "      <td>0.0</td>\n",
              "      <td>0.0</td>\n",
              "      <td>0.0</td>\n",
              "      <td>0.0</td>\n",
              "    </tr>\n",
              "    <tr>\n",
              "      <th>max</th>\n",
              "      <td>0.0</td>\n",
              "      <td>0.0</td>\n",
              "      <td>0.0</td>\n",
              "      <td>0.0</td>\n",
              "      <td>0.0</td>\n",
              "      <td>0.0</td>\n",
              "      <td>0.0</td>\n",
              "      <td>0.0</td>\n",
              "      <td>0.0</td>\n",
              "      <td>0.0</td>\n",
              "      <td>...</td>\n",
              "      <td>254.0</td>\n",
              "      <td>253.0</td>\n",
              "      <td>254.0</td>\n",
              "      <td>68.0</td>\n",
              "      <td>43.0</td>\n",
              "      <td>244.0</td>\n",
              "      <td>62.0</td>\n",
              "      <td>0.0</td>\n",
              "      <td>0.0</td>\n",
              "      <td>0.0</td>\n",
              "    </tr>\n",
              "  </tbody>\n",
              "</table>\n",
              "<p>8 rows × 783 columns</p>\n",
              "</div>"
            ]
          },
          "metadata": {},
          "execution_count": 16
        }
      ]
    },
    {
      "cell_type": "markdown",
      "metadata": {
        "id": "nKdUi_QENxXp"
      },
      "source": [
        "### Solution"
      ]
    },
    {
      "cell_type": "markdown",
      "metadata": {
        "id": "OCYR63qR249Y"
      },
      "source": [
        "Start exploring your data by generating a high-level summary using `Dataframe.describe()`."
      ]
    },
    {
      "cell_type": "code",
      "metadata": {
        "id": "KrZUagAw24oS",
        "colab": {
          "base_uri": "https://localhost:8080/",
          "height": 326
        },
        "outputId": "5f74e699-bb5f-426c-b124-a833414f5be8"
      },
      "source": [
        "mnistData.describe()"
      ],
      "execution_count": 17,
      "outputs": [
        {
          "output_type": "execute_result",
          "data": {
            "text/plain": [
              "         1      2      3      4      5      6      7      8      9      10   \\\n",
              "count 5000.0 5000.0 5000.0 5000.0 5000.0 5000.0 5000.0 5000.0 5000.0 5000.0   \n",
              "mean     0.0    0.0    0.0    0.0    0.0    0.0    0.0    0.0    0.0    0.0   \n",
              "std      0.0    0.0    0.0    0.0    0.0    0.0    0.0    0.0    0.0    0.0   \n",
              "min      0.0    0.0    0.0    0.0    0.0    0.0    0.0    0.0    0.0    0.0   \n",
              "25%      0.0    0.0    0.0    0.0    0.0    0.0    0.0    0.0    0.0    0.0   \n",
              "50%      0.0    0.0    0.0    0.0    0.0    0.0    0.0    0.0    0.0    0.0   \n",
              "75%      0.0    0.0    0.0    0.0    0.0    0.0    0.0    0.0    0.0    0.0   \n",
              "max      0.0    0.0    0.0    0.0    0.0    0.0    0.0    0.0    0.0    0.0   \n",
              "\n",
              "       ...    774    775    776    777    778    779    780    781    782  \\\n",
              "count  ... 5000.0 5000.0 5000.0 5000.0 5000.0 5000.0 5000.0 5000.0 5000.0   \n",
              "mean   ...    0.5    0.3    0.1    0.0    0.0    0.0    0.0    0.0    0.0   \n",
              "std    ...    9.4    7.7    5.2    1.0    0.6    3.5    0.9    0.0    0.0   \n",
              "min    ...    0.0    0.0    0.0    0.0    0.0    0.0    0.0    0.0    0.0   \n",
              "25%    ...    0.0    0.0    0.0    0.0    0.0    0.0    0.0    0.0    0.0   \n",
              "50%    ...    0.0    0.0    0.0    0.0    0.0    0.0    0.0    0.0    0.0   \n",
              "75%    ...    0.0    0.0    0.0    0.0    0.0    0.0    0.0    0.0    0.0   \n",
              "max    ...  254.0  253.0  254.0   68.0   43.0  244.0   62.0    0.0    0.0   \n",
              "\n",
              "         783  \n",
              "count 5000.0  \n",
              "mean     0.0  \n",
              "std      0.0  \n",
              "min      0.0  \n",
              "25%      0.0  \n",
              "50%      0.0  \n",
              "75%      0.0  \n",
              "max      0.0  \n",
              "\n",
              "[8 rows x 783 columns]"
            ],
            "text/html": [
              "<div>\n",
              "<style scoped>\n",
              "    .dataframe tbody tr th:only-of-type {\n",
              "        vertical-align: middle;\n",
              "    }\n",
              "\n",
              "    .dataframe tbody tr th {\n",
              "        vertical-align: top;\n",
              "    }\n",
              "\n",
              "    .dataframe thead th {\n",
              "        text-align: right;\n",
              "    }\n",
              "</style>\n",
              "<table border=\"1\" class=\"dataframe\">\n",
              "  <thead>\n",
              "    <tr style=\"text-align: right;\">\n",
              "      <th></th>\n",
              "      <th>1</th>\n",
              "      <th>2</th>\n",
              "      <th>3</th>\n",
              "      <th>4</th>\n",
              "      <th>5</th>\n",
              "      <th>6</th>\n",
              "      <th>7</th>\n",
              "      <th>8</th>\n",
              "      <th>9</th>\n",
              "      <th>10</th>\n",
              "      <th>...</th>\n",
              "      <th>774</th>\n",
              "      <th>775</th>\n",
              "      <th>776</th>\n",
              "      <th>777</th>\n",
              "      <th>778</th>\n",
              "      <th>779</th>\n",
              "      <th>780</th>\n",
              "      <th>781</th>\n",
              "      <th>782</th>\n",
              "      <th>783</th>\n",
              "    </tr>\n",
              "  </thead>\n",
              "  <tbody>\n",
              "    <tr>\n",
              "      <th>count</th>\n",
              "      <td>5000.0</td>\n",
              "      <td>5000.0</td>\n",
              "      <td>5000.0</td>\n",
              "      <td>5000.0</td>\n",
              "      <td>5000.0</td>\n",
              "      <td>5000.0</td>\n",
              "      <td>5000.0</td>\n",
              "      <td>5000.0</td>\n",
              "      <td>5000.0</td>\n",
              "      <td>5000.0</td>\n",
              "      <td>...</td>\n",
              "      <td>5000.0</td>\n",
              "      <td>5000.0</td>\n",
              "      <td>5000.0</td>\n",
              "      <td>5000.0</td>\n",
              "      <td>5000.0</td>\n",
              "      <td>5000.0</td>\n",
              "      <td>5000.0</td>\n",
              "      <td>5000.0</td>\n",
              "      <td>5000.0</td>\n",
              "      <td>5000.0</td>\n",
              "    </tr>\n",
              "    <tr>\n",
              "      <th>mean</th>\n",
              "      <td>0.0</td>\n",
              "      <td>0.0</td>\n",
              "      <td>0.0</td>\n",
              "      <td>0.0</td>\n",
              "      <td>0.0</td>\n",
              "      <td>0.0</td>\n",
              "      <td>0.0</td>\n",
              "      <td>0.0</td>\n",
              "      <td>0.0</td>\n",
              "      <td>0.0</td>\n",
              "      <td>...</td>\n",
              "      <td>0.5</td>\n",
              "      <td>0.3</td>\n",
              "      <td>0.1</td>\n",
              "      <td>0.0</td>\n",
              "      <td>0.0</td>\n",
              "      <td>0.0</td>\n",
              "      <td>0.0</td>\n",
              "      <td>0.0</td>\n",
              "      <td>0.0</td>\n",
              "      <td>0.0</td>\n",
              "    </tr>\n",
              "    <tr>\n",
              "      <th>std</th>\n",
              "      <td>0.0</td>\n",
              "      <td>0.0</td>\n",
              "      <td>0.0</td>\n",
              "      <td>0.0</td>\n",
              "      <td>0.0</td>\n",
              "      <td>0.0</td>\n",
              "      <td>0.0</td>\n",
              "      <td>0.0</td>\n",
              "      <td>0.0</td>\n",
              "      <td>0.0</td>\n",
              "      <td>...</td>\n",
              "      <td>9.4</td>\n",
              "      <td>7.7</td>\n",
              "      <td>5.2</td>\n",
              "      <td>1.0</td>\n",
              "      <td>0.6</td>\n",
              "      <td>3.5</td>\n",
              "      <td>0.9</td>\n",
              "      <td>0.0</td>\n",
              "      <td>0.0</td>\n",
              "      <td>0.0</td>\n",
              "    </tr>\n",
              "    <tr>\n",
              "      <th>min</th>\n",
              "      <td>0.0</td>\n",
              "      <td>0.0</td>\n",
              "      <td>0.0</td>\n",
              "      <td>0.0</td>\n",
              "      <td>0.0</td>\n",
              "      <td>0.0</td>\n",
              "      <td>0.0</td>\n",
              "      <td>0.0</td>\n",
              "      <td>0.0</td>\n",
              "      <td>0.0</td>\n",
              "      <td>...</td>\n",
              "      <td>0.0</td>\n",
              "      <td>0.0</td>\n",
              "      <td>0.0</td>\n",
              "      <td>0.0</td>\n",
              "      <td>0.0</td>\n",
              "      <td>0.0</td>\n",
              "      <td>0.0</td>\n",
              "      <td>0.0</td>\n",
              "      <td>0.0</td>\n",
              "      <td>0.0</td>\n",
              "    </tr>\n",
              "    <tr>\n",
              "      <th>25%</th>\n",
              "      <td>0.0</td>\n",
              "      <td>0.0</td>\n",
              "      <td>0.0</td>\n",
              "      <td>0.0</td>\n",
              "      <td>0.0</td>\n",
              "      <td>0.0</td>\n",
              "      <td>0.0</td>\n",
              "      <td>0.0</td>\n",
              "      <td>0.0</td>\n",
              "      <td>0.0</td>\n",
              "      <td>...</td>\n",
              "      <td>0.0</td>\n",
              "      <td>0.0</td>\n",
              "      <td>0.0</td>\n",
              "      <td>0.0</td>\n",
              "      <td>0.0</td>\n",
              "      <td>0.0</td>\n",
              "      <td>0.0</td>\n",
              "      <td>0.0</td>\n",
              "      <td>0.0</td>\n",
              "      <td>0.0</td>\n",
              "    </tr>\n",
              "    <tr>\n",
              "      <th>50%</th>\n",
              "      <td>0.0</td>\n",
              "      <td>0.0</td>\n",
              "      <td>0.0</td>\n",
              "      <td>0.0</td>\n",
              "      <td>0.0</td>\n",
              "      <td>0.0</td>\n",
              "      <td>0.0</td>\n",
              "      <td>0.0</td>\n",
              "      <td>0.0</td>\n",
              "      <td>0.0</td>\n",
              "      <td>...</td>\n",
              "      <td>0.0</td>\n",
              "      <td>0.0</td>\n",
              "      <td>0.0</td>\n",
              "      <td>0.0</td>\n",
              "      <td>0.0</td>\n",
              "      <td>0.0</td>\n",
              "      <td>0.0</td>\n",
              "      <td>0.0</td>\n",
              "      <td>0.0</td>\n",
              "      <td>0.0</td>\n",
              "    </tr>\n",
              "    <tr>\n",
              "      <th>75%</th>\n",
              "      <td>0.0</td>\n",
              "      <td>0.0</td>\n",
              "      <td>0.0</td>\n",
              "      <td>0.0</td>\n",
              "      <td>0.0</td>\n",
              "      <td>0.0</td>\n",
              "      <td>0.0</td>\n",
              "      <td>0.0</td>\n",
              "      <td>0.0</td>\n",
              "      <td>0.0</td>\n",
              "      <td>...</td>\n",
              "      <td>0.0</td>\n",
              "      <td>0.0</td>\n",
              "      <td>0.0</td>\n",
              "      <td>0.0</td>\n",
              "      <td>0.0</td>\n",
              "      <td>0.0</td>\n",
              "      <td>0.0</td>\n",
              "      <td>0.0</td>\n",
              "      <td>0.0</td>\n",
              "      <td>0.0</td>\n",
              "    </tr>\n",
              "    <tr>\n",
              "      <th>max</th>\n",
              "      <td>0.0</td>\n",
              "      <td>0.0</td>\n",
              "      <td>0.0</td>\n",
              "      <td>0.0</td>\n",
              "      <td>0.0</td>\n",
              "      <td>0.0</td>\n",
              "      <td>0.0</td>\n",
              "      <td>0.0</td>\n",
              "      <td>0.0</td>\n",
              "      <td>0.0</td>\n",
              "      <td>...</td>\n",
              "      <td>254.0</td>\n",
              "      <td>253.0</td>\n",
              "      <td>254.0</td>\n",
              "      <td>68.0</td>\n",
              "      <td>43.0</td>\n",
              "      <td>244.0</td>\n",
              "      <td>62.0</td>\n",
              "      <td>0.0</td>\n",
              "      <td>0.0</td>\n",
              "      <td>0.0</td>\n",
              "    </tr>\n",
              "  </tbody>\n",
              "</table>\n",
              "<p>8 rows × 783 columns</p>\n",
              "</div>"
            ]
          },
          "metadata": {},
          "execution_count": 17
        }
      ]
    },
    {
      "cell_type": "code",
      "metadata": {
        "colab": {
          "base_uri": "https://localhost:8080/"
        },
        "id": "bTnxgrt49tJe",
        "outputId": "d0a91dfb-0df6-4e93-b557-c25ff9d0fd3d"
      },
      "source": [
        "mnistData.isnull().any()"
      ],
      "execution_count": 19,
      "outputs": [
        {
          "output_type": "execute_result",
          "data": {
            "text/plain": [
              "1      False\n",
              "2      False\n",
              "3      False\n",
              "4      False\n",
              "5      False\n",
              "       ...  \n",
              "779    False\n",
              "780    False\n",
              "781    False\n",
              "782    False\n",
              "783    False\n",
              "Length: 783, dtype: bool"
            ]
          },
          "metadata": {},
          "execution_count": 19
        }
      ]
    },
    {
      "cell_type": "markdown",
      "metadata": {
        "id": "cp3rP2saNyup"
      },
      "source": [
        "Because some of the feature columns are all zeros, the scaling function divided by 0 (because `np.max` returns 0). The division by 0 resulted in NaN values. This result shows you how easily NaNs can arise in engineered data. The `describe` function will not detect every occurrence of NaN (or None). Instead,  use the command `DataFrame.isnull().any()`.\n",
        "\n",
        "*Note*: Given the maximum value of the feature data is 255, you could simply divide the input by 255 instead of using min-max scaling, and avoid introducing NaNs. However, this example purposely uses min-max scaling to show how NaNs can appear in engineered data.\n",
        "\n",
        "Now let's try scaling the data again."
      ]
    },
    {
      "cell_type": "code",
      "metadata": {
        "id": "YSV3SNG2LNp2"
      },
      "source": [
        "# Redefine the scaling function to check for zeros\n",
        "def minMaxScaler(arr):\n",
        "  max = np.max(arr)\n",
        "  if(max!=0):  # avoid /0\n",
        "    min = np.min(arr)\n",
        "    arr = (arr-min)/max\n",
        "  return arr\n",
        "\n",
        "# Reload data\n",
        "mnistData = mnistDf.iloc[:,1:-1].copy(deep=True)\n",
        "\n",
        "# Scale data\n",
        "for featureIdx in range(mnistData.shape[1]):\n",
        "  mnistData.iloc[:,featureIdx] = minMaxScaler(mnistData.iloc[:,featureIdx])"
      ],
      "execution_count": 20,
      "outputs": []
    },
    {
      "cell_type": "markdown",
      "metadata": {
        "id": "_xXmVNVJXrG1"
      },
      "source": [
        "You should follow best practice and prevent this bug from recurring by writing a unit test to check for not having `NaN` values in your engineered data."
      ]
    },
    {
      "cell_type": "code",
      "metadata": {
        "id": "RpsG2yzsBBE3"
      },
      "source": [
        "#@title Define function to validate data\n",
        "\n",
        "def test_data_schema(input_data, schema):\n",
        "  \"\"\"Tests that the datatypes and ranges of values in the dataset\n",
        "    adhere to expectations.\n",
        "\n",
        "    Args:\n",
        "      input_function: Dataframe containing data to test\n",
        "      schema: Schema which describes the properties of the data.\n",
        "  \"\"\"\n",
        "\n",
        "  def test_dtypes():\n",
        "    for column in schema.keys():\n",
        "      assert input_data[column].map(type).eq(\n",
        "          schema[column]['dtype']).all(), (\n",
        "          \"Incorrect dtype in column '%s'.\" % column\n",
        "      )\n",
        "    print('Input dtypes are correct.')\n",
        "\n",
        "  def test_ranges():\n",
        "    for column in schema.keys():\n",
        "      schema_max = schema[column]['range']['max']\n",
        "      schema_min = schema[column]['range']['min']\n",
        "      # Assert that data falls between schema min and max.\n",
        "      assert input_data[column].max() <= schema_max, (\n",
        "          \"Maximum value of column '%s' is too low.\" % column\n",
        "      )\n",
        "      assert input_data[column].min() >= schema_min, (\n",
        "          \"Minimum value of column '%s' is too high.\" % column\n",
        "      )\n",
        "    print('Data falls within specified ranges.')\n",
        "\n",
        "  test_dtypes()\n",
        "  test_ranges()"
      ],
      "execution_count": 47,
      "outputs": []
    },
    {
      "cell_type": "code",
      "metadata": {
        "colab": {
          "base_uri": "https://localhost:8080/"
        },
        "id": "i3-uFNHbBTZ8",
        "outputId": "9a5ee1af-0ccc-4ddf-f46d-8131cfb819da"
      },
      "source": [
        "mnist_schema = dict((col_name, {'range': {'min': 0,'max': 255},'dtype': int}) for col_name in range(1, mnistDf.shape[1]))\n",
        "mnist_schema[0] = {'range': {'min': 0,'max': 9},'dtype': int}\n",
        "\n",
        "print('Validating mnist data against data schema...')\n",
        "test_data_schema(mnistDf, mnist_schema)"
      ],
      "execution_count": 48,
      "outputs": [
        {
          "output_type": "stream",
          "name": "stdout",
          "text": [
            "Validating mnist data against data schema...\n",
            "Input dtypes are correct.\n",
            "Data falls within specified ranges.\n"
          ]
        }
      ]
    },
    {
      "cell_type": "markdown",
      "metadata": {
        "id": "9IBsKY3i6itJ"
      },
      "source": [
        "## Remove All-Zero Features?"
      ]
    },
    {
      "cell_type": "markdown",
      "metadata": {
        "id": "o7BIOScX6kp5"
      },
      "source": [
        "You might think that getting NaNs and discovering that some features were all-zero is good luck because those features can be discarded. However, your training data and validation data might have different all-zero features. Since you should not use validation data to make modeling decisions, you cannot remove only those features that are all-zero in both. Furthermore, data in the future might have different characteristics. There are pros and cons in either case. This Colab keeps the features since reducing the feature set is not a concern."
      ]
    },
    {
      "cell_type": "markdown",
      "metadata": {
        "id": "HE0WOm7O3TGl"
      },
      "source": [
        "## Establish Baseline"
      ]
    },
    {
      "cell_type": "markdown",
      "metadata": {
        "id": "PAWzL8sW3U9V"
      },
      "source": [
        "Following development best practices, you should establish a baseline. The simplest baseline is predicting the most common class. You saw that the most common class is 1. Let's check the accuracy when always predicting 1."
      ]
    },
    {
      "cell_type": "code",
      "metadata": {
        "id": "PhT7hh6j5HmA",
        "colab": {
          "base_uri": "https://localhost:8080/"
        },
        "outputId": "e7d6b8c0-7531-4994-fce1-9b42a169d1f3"
      },
      "source": [
        "np.sum(mnistLabels==1)*1.0/mnistLabels.shape[0]*100"
      ],
      "execution_count": 35,
      "outputs": [
        {
          "output_type": "execute_result",
          "data": {
            "text/plain": [
              "11.42"
            ]
          },
          "metadata": {},
          "execution_count": 35
        }
      ]
    },
    {
      "cell_type": "markdown",
      "metadata": {
        "id": "VOE2yBOK5fQw"
      },
      "source": [
        "Your baseline accuracy is about 11%. Should be easy to beat, right?"
      ]
    },
    {
      "cell_type": "markdown",
      "metadata": {
        "id": "B6AOgLcC5nwp"
      },
      "source": [
        "## Train a Linear Model"
      ]
    },
    {
      "cell_type": "markdown",
      "metadata": {
        "id": "2hH-T1mn5pao"
      },
      "source": [
        "Let's start nice and easy with a linear model. All we need is an accuracy > 11%.\n",
        "\n",
        "First, let's define a function to plot our loss and accuracy curves. The function will also print the final loss and accuracy. Instead of using `verbose=1`, you can call the function."
      ]
    },
    {
      "cell_type": "code",
      "metadata": {
        "id": "P68UKi78a0T-"
      },
      "source": [
        "def showClassificationResults(trainHistory):\n",
        "  \"\"\"Function to:\n",
        "   * Print final loss & accuracy.\n",
        "   * Plot loss & accuracy curves.\n",
        "\n",
        "  Args:\n",
        "    trainHistory: object returned by model.fit\n",
        "  \"\"\"\n",
        "\n",
        "  # Print final loss and accuracy\n",
        "  print(\"Final training loss: \" + str(trainHistory.history['loss'][-1]))\n",
        "  print(\"Final validation loss: \" + str(trainHistory.history['val_loss'][-1]))\n",
        "  print(\"Final training accuracy: \" + str(trainHistory.history['accuracy'][-1]))\n",
        "  print(\"Final validation accuracy: \" + str(trainHistory.history['val_accuracy'][-1]))\n",
        "\n",
        "  # Plot loss and accuracy curves\n",
        "  f = plt.figure(figsize=(10,4))\n",
        "  axLoss = f.add_subplot(121)\n",
        "  axAcc = f.add_subplot(122)\n",
        "  axLoss.plot(trainHistory.history['loss'])\n",
        "  axLoss.plot(trainHistory.history['val_loss'])\n",
        "  axLoss.legend(['Training loss', 'Validation loss'], loc='best')\n",
        "  axLoss.set_xlabel('Training epochs')\n",
        "  axLoss.set_ylabel('Loss')\n",
        "  axAcc.plot(trainHistory.history['accuracy'])\n",
        "  axAcc.plot(trainHistory.history['val_accuracy'])\n",
        "  axAcc.legend(['Training accuracy', 'Validation accuracy'], loc='best')\n",
        "  axAcc.set_xlabel('Training epochs')\n",
        "  axAcc.set_ylabel('Accuracy')"
      ],
      "execution_count": 43,
      "outputs": []
    },
    {
      "cell_type": "markdown",
      "metadata": {
        "id": "dU4bG_nYcTeR"
      },
      "source": [
        "Now train a linear model with an output layer and a hidden layer."
      ]
    },
    {
      "cell_type": "code",
      "metadata": {
        "id": "5_gWbZxS5mFg",
        "colab": {
          "base_uri": "https://localhost:8080/",
          "height": 351
        },
        "outputId": "85dba69b-dd50-4ccb-987b-7b0be82f41c3"
      },
      "source": [
        "model = None\n",
        "# Define\n",
        "model = keras.Sequential()\n",
        "model.add(keras.layers.Dense(mnistData.shape[1],\n",
        "                             activation='linear',\n",
        "                             input_dim=mnistData.shape[1]))\n",
        "model.add(keras.layers.Dense(10, activation='softmax'))\n",
        "# Compile\n",
        "model.compile(optimizer=\"adam\", loss='mse', metrics=['accuracy'])\n",
        "# Train\n",
        "trainHistory = model.fit(mnistData, mnistLabels, epochs=100, batch_size=100,\n",
        "                         validation_split=0.2, verbose=0)\n",
        "# Plot\n",
        "showClassificationResults(trainHistory)"
      ],
      "execution_count": 45,
      "outputs": [
        {
          "output_type": "stream",
          "name": "stdout",
          "text": [
            "Final training loss: 3.024850457906723\n",
            "Final validation loss: 3.8349536418914796\n",
            "Final training accuracy: 0.1455\n",
            "Final validation accuracy: 0.143\n"
          ]
        },
        {
          "output_type": "display_data",
          "data": {
            "image/png": "[encoded data removed]",
            "text/plain": [
              "<Figure size 720x288 with 2 Axes>"
            ]
          },
          "metadata": {
            "needs_background": "light"
          }
        }
      ]
    },
    {
      "cell_type": "markdown",
      "metadata": {
        "id": "f8nF3XAnAres"
      },
      "source": [
        "Wow, that accuracy is terrible! What could the cause be?\n",
        "\n",
        "Hint: You followed the same procedure as for the previous regression problem. Do you need an adaptation for a classification problem? Experiment with the code above or skip to the solution below."
      ]
    },
    {
      "cell_type": "markdown",
      "metadata": {
        "id": "dqnRGq2UCEYP"
      },
      "source": [
        "### Solution"
      ]
    },
    {
      "cell_type": "markdown",
      "metadata": {
        "id": "DmvvQeJfCFc9"
      },
      "source": [
        "In regression, the last layer uses a linear activation function. In classification, the last layer cannot use a linear transform. Instead, one option is a softmax transform. Furthermore, in regression, the loss is calculated using MSE while in classification, loss is calculated using crossentropy. Before running your model, if you wrote a test to validate the output values, your test would detect the anomalous output. You'll look at such a test later. Move onto the next section to fix the loss calculation."
      ]
    },
    {
      "cell_type": "markdown",
      "metadata": {
        "id": "296GJgdPkWDE"
      },
      "source": [
        "## Fixing Loss Calculation"
      ]
    },
    {
      "cell_type": "markdown",
      "metadata": {
        "id": "A-mGfHlpDITS"
      },
      "source": [
        "Since your labels are integers instead of one-hot encodings, use `sparse_categorical_crossentropy` instead of `categorical_crossentropy` so that you avoid converting the integers to one-hot encoding."
      ]
    },
    {
      "cell_type": "markdown",
      "metadata": {
        "id": "HFxuJSj2JhIZ"
      },
      "source": [
        "Retrain the model with the new loss calculation by running the following cell. Look through the code to note the changes. What do you think of the result?"
      ]
    },
    {
      "cell_type": "code",
      "metadata": {
        "id": "vhfoEAR_gwFW",
        "colab": {
          "base_uri": "https://localhost:8080/",
          "height": 351
        },
        "outputId": "8e1faac3-f8fa-4e3f-bb64-adf58cb2bac9"
      },
      "source": [
        "model = None\n",
        "# Define\n",
        "model = keras.Sequential()\n",
        "model.add(keras.layers.Dense(mnistData.shape[1], activation='linear',\n",
        "                             input_dim = mnistData.shape[1]))\n",
        "model.add(keras.layers.Dense(10, activation='softmax'))\n",
        "# Compile\n",
        "model.compile(optimizer=\"adam\",\n",
        "              loss='sparse_categorical_crossentropy',\n",
        "              metrics=['accuracy'])\n",
        "# Train\n",
        "trainHistory = model.fit(mnistData, mnistLabels, epochs=10, batch_size=100,\n",
        "                         validation_split=0.1, verbose=0)\n",
        "# Plot\n",
        "showClassificationResults(trainHistory)"
      ],
      "execution_count": 52,
      "outputs": [
        {
          "output_type": "stream",
          "name": "stdout",
          "text": [
            "Final training loss: 0.17480523727006383\n",
            "Final validation loss: 0.3656942665576935\n",
            "Final training accuracy: 0.9482222\n",
            "Final validation accuracy: 0.888\n"
          ]
        },
        {
          "output_type": "display_data",
          "data": {
            "image/png": "[encoded data removed]",
            "text/plain": [
              "<Figure size 720x288 with 2 Axes>"
            ]
          },
          "metadata": {
            "needs_background": "light"
          }
        }
      ]
    },
    {
      "cell_type": "markdown",
      "metadata": {
        "id": "gr2QBQEvEN3D"
      },
      "source": [
        "Your loss curves are much better. Your accuracy has improved too. You're on the right track."
      ]
    },
    {
      "cell_type": "markdown",
      "metadata": {
        "id": "-hNND_KIFyf7"
      },
      "source": [
        "## Train a Nonlinear Model"
      ]
    },
    {
      "cell_type": "markdown",
      "metadata": {
        "id": "v_o9SEa3F0xy"
      },
      "source": [
        "Switch to a nonlinear model by modifying the code below to use relu activation functions instead of linear activation functions. Run the code. What do you observe?"
      ]
    },
    {
      "cell_type": "code",
      "metadata": {
        "id": "bprM8t-ti-KQ",
        "colab": {
          "base_uri": "https://localhost:8080/",
          "height": 351
        },
        "outputId": "8c97656e-5f67-4fd6-f183-43cd02d2350b"
      },
      "source": [
        "model = None\n",
        "# Define\n",
        "model = keras.Sequential()\n",
        "model.add(keras.layers.Dense(mnistData.shape[1], activation='relu', # use 'relu'\n",
        "                             input_dim=mnistData.shape[1]))\n",
        "model.add(keras.layers.Dense(10, activation='softmax'))\n",
        "# Compile\n",
        "model.compile(optimizer=\"adam\", loss='sparse_categorical_crossentropy',\n",
        "              metrics=['accuracy'])\n",
        "# Train\n",
        "trainHistory = model.fit(mnistData, mnistLabels, epochs=20, batch_size=100,\n",
        "                        validation_split=0.1, verbose=0)\n",
        "# Plot\n",
        "showClassificationResults(trainHistory)"
      ],
      "execution_count": 51,
      "outputs": [
        {
          "output_type": "stream",
          "name": "stdout",
          "text": [
            "Final training loss: 0.0045535347734888395\n",
            "Final validation loss: 0.15824018120765687\n",
            "Final training accuracy: 1.0\n",
            "Final validation accuracy: 0.948\n"
          ]
        },
        {
          "output_type": "display_data",
          "data": {
            "image/png": "[encoded data removed]",
            "text/plain": [
              "<Figure size 720x288 with 2 Axes>"
            ]
          },
          "metadata": {
            "needs_background": "light"
          }
        }
      ]
    },
    {
      "cell_type": "markdown",
      "metadata": {
        "id": "LodYblJbF673"
      },
      "source": [
        "The quality of the nonlinear model is significantly better than of the linear model. Progress! Move onto the next section."
      ]
    },
    {
      "cell_type": "markdown",
      "metadata": {
        "id": "1u9z5zSIGF4H"
      },
      "source": [
        "## Adding a Second Layer"
      ]
    },
    {
      "cell_type": "markdown",
      "metadata": {
        "id": "Xa_gtVEHJCON"
      },
      "source": [
        "Increasing the model's capacity significantly improved your results. Perhaps you can continue this strategy by adding a second relu layer. Run the following code cell to train the model with another relu layer."
      ]
    },
    {
      "cell_type": "code",
      "metadata": {
        "id": "HgY8AFlWGHd2",
        "colab": {
          "base_uri": "https://localhost:8080/",
          "height": 351
        },
        "outputId": "6e32a80b-7542-46ac-a18c-f74a3437aa90"
      },
      "source": [
        "model = None\n",
        "# Define\n",
        "model = keras.Sequential()\n",
        "model.add(keras.layers.Dense(mnistData.shape[1], activation='relu',\n",
        "                             input_dim = mnistData.shape[1]))\n",
        "model.add(keras.layers.Dense(mnistData.shape[1], activation='relu'))\n",
        "model.add(keras.layers.Dense(10,activation='softmax'))\n",
        "# Compile\n",
        "model.compile(optimizer=\"adam\", loss='sparse_categorical_crossentropy',\n",
        "              metrics=['accuracy'])\n",
        "# Train\n",
        "trainHistory = model.fit(mnistData, mnistLabels, epochs=10, batch_size=100,\n",
        "                        validation_split=0.1, verbose=0)\n",
        "# Plot\n",
        "showClassificationResults(trainHistory)"
      ],
      "execution_count": 53,
      "outputs": [
        {
          "output_type": "stream",
          "name": "stdout",
          "text": [
            "Final training loss: 0.001780000555380765\n",
            "Final validation loss: 0.15322310328483582\n",
            "Final training accuracy: 1.0\n",
            "Final validation accuracy: 0.956\n"
          ]
        },
        {
          "output_type": "display_data",
          "data": {
            "image/png": "[encoded data removed]",
            "text/plain": [
              "<Figure size 720x288 with 2 Axes>"
            ]
          },
          "metadata": {
            "needs_background": "light"
          }
        }
      ]
    },
    {
      "cell_type": "markdown",
      "metadata": {
        "id": "2lcvRLzjJS6L"
      },
      "source": [
        "Guess what. Your previous model had training and validation accuracies of 100% and 95%. You can't do much better than that! So your new accuracy is about the same. How high can you push your accuracy? With this configuration the highest training and validation accuracies appear to be 100% and 96% respectively. Since the neural net returns similar accuracy with 1 or 2 layers, let's use the simpler model with 1 layer.\n",
        "\n",
        "Does your model begin to overfit the training data if you train for long enough? (Your model starts overfitting training data at the point when your validation loss starts increasing.)"
      ]
    },
    {
      "cell_type": "markdown",
      "metadata": {
        "id": "tDdWPO1AKsXx"
      },
      "source": [
        "## Check for Training/Validation Data Skew"
      ]
    },
    {
      "cell_type": "markdown",
      "metadata": {
        "id": "UTGSClhnKutt"
      },
      "source": [
        "Our validation accuracy is a little worse than our training accuracy. While this result is always expected, you should check for typical errors. The commonest cause is having different distributions of data and labels in training and validation. Confirm that the distribution of classes in training and validation data is similar."
      ]
    },
    {
      "cell_type": "code",
      "metadata": {
        "id": "5-8aUQ7eg2Z1",
        "colab": {
          "base_uri": "https://localhost:8080/",
          "height": 418
        },
        "outputId": "f5bd1730-70a8-4444-c627-22a8c0044f75"
      },
      "source": [
        "#%hide_result # hides result of cell computation\n",
        "\n",
        "f = plt.figure(figsize=(10,3))\n",
        "ax = f.add_subplot(1,2,1)\n",
        "plt.hist(mnistLabels[0:len(mnistLabels)*8/10], bins=range(numClasses+1))\n",
        "plt.xticks(range(numClasses+1))\n",
        "ax2 = f.add_subplot(1,2,2,)\n",
        "plt.hist(mnistLabels[len(mnistLabels)*8/10:-1], bins=range(numClasses+1))\n",
        "plt.xticks(range(numClasses+1))"
      ],
      "execution_count": 55,
      "outputs": [
        {
          "output_type": "execute_result",
          "data": {
            "text/plain": [
              "([<matplotlib.axis.XTick at 0x7fb1ed6af190>,\n",
              "  <matplotlib.axis.XTick at 0x7fb1ed6a6c10>,\n",
              "  <matplotlib.axis.XTick at 0x7fb1ed6a6510>,\n",
              "  <matplotlib.axis.XTick at 0x7fb1ed66be50>,\n",
              "  <matplotlib.axis.XTick at 0x7fb1ed67b3d0>,\n",
              "  <matplotlib.axis.XTick at 0x7fb1ed66bd90>,\n",
              "  <matplotlib.axis.XTick at 0x7fb1ed67bad0>,\n",
              "  <matplotlib.axis.XTick at 0x7fb1ed604050>,\n",
              "  <matplotlib.axis.XTick at 0x7fb1ed604590>,\n",
              "  <matplotlib.axis.XTick at 0x7fb1ed604ad0>,\n",
              "  <matplotlib.axis.XTick at 0x7fb1ed60e050>],\n",
              " <a list of 11 Text xticklabel objects>)"
            ]
          },
          "metadata": {},
          "execution_count": 55
        },
        {
          "output_type": "display_data",
          "data": {
            "image/png": "[encoded data removed]",
            "text/plain": [
              "<Figure size 720x216 with 2 Axes>"
            ]
          },
          "metadata": {
            "needs_background": "light"
          }
        }
      ]
    },
    {
      "cell_type": "markdown",
      "metadata": {
        "id": "JYAlIiUBqe4H"
      },
      "source": [
        "## Apply Dropout Regularization"
      ]
    },
    {
      "cell_type": "markdown",
      "metadata": {
        "id": "9UDeCe7Iqgc3"
      },
      "source": [
        "Dropout regularization is a common regularization method that removes a random selection of a fixed number of units in a network layer for a single gradient step. Typically, dropout will improve generalization at a dropout rate of between 10% and 50% of neurons. \n",
        "\n",
        "Try to reduce the divergence between training and validation loss by using dropout regularization with values between 0.1 and 0.5. Dropout does not improve the results in this case. However, at a dropout of 0.5, the difference in loss decreases, though both training and validation loss decrease in absolute terms."
      ]
    },
    {
      "cell_type": "code",
      "metadata": {
        "id": "A0LNZvchsWJa",
        "colab": {
          "base_uri": "https://localhost:8080/",
          "height": 369
        },
        "outputId": "9f4b7ac8-7d1a-4681-faf9-8549f0281de0"
      },
      "source": [
        "from keras import regularizers\n",
        "model = None\n",
        "# Define lambda\n",
        "dropoutLambda = 0.5 #@param\n",
        "# Define model\n",
        "model = keras.Sequential()\n",
        "model.add(keras.layers.Dense(mnistData.shape[1],\n",
        "                             input_dim=mnistData.shape[1],\n",
        "                             activation='relu'))\n",
        "model.add(keras.layers.Dropout(dropoutLambda,\n",
        "                               noise_shape=(1, mnistData.shape[1])))\n",
        "model.add(keras.layers.Dense(10, activation='softmax'))\n",
        "# Compile\n",
        "model.compile(optimizer = \"adam\",\n",
        "              loss = 'sparse_categorical_crossentropy',\n",
        "              metrics = ['accuracy'])\n",
        "# Train\n",
        "trainHistory = model.fit(mnistData,\n",
        "                        mnistLabels,\n",
        "                        epochs=30,\n",
        "                        batch_size=500,\n",
        "                        validation_split=0.1,\n",
        "                        verbose=0)\n",
        "# Plot\n",
        "showClassificationResults(trainHistory)"
      ],
      "execution_count": 56,
      "outputs": [
        {
          "output_type": "stream",
          "name": "stderr",
          "text": [
            "Using TensorFlow backend.\n"
          ]
        },
        {
          "output_type": "stream",
          "name": "stdout",
          "text": [
            "Final training loss: 0.11273058421081966\n",
            "Final validation loss: 0.18276895582675934\n",
            "Final training accuracy: 0.97333336\n",
            "Final validation accuracy: 0.94\n"
          ]
        },
        {
          "output_type": "display_data",
          "data": {
            "image/png": "[encoded data removed]",
            "text/plain": [
              "<Figure size 720x288 with 2 Axes>"
            ]
          },
          "metadata": {
            "needs_background": "light"
          }
        }
      ]
    },
    {
      "cell_type": "markdown",
      "metadata": {
        "id": "FDP4RPSNxyHc"
      },
      "source": [
        "Sample results using dropout regularization after 30 epochs:\n",
        "\n",
        "Lambda | Training Loss | Validation Loss\n",
        "------- | ------------------------------------------------------\n",
        "0.1 | 0.99 | 0.95\n",
        "0.2 | 0.99 | 0.95\n",
        "0.3 | 0.99 | 0.95\n",
        "0.5 | 0.97 | 0.94"
      ]
    },
    {
      "cell_type": "markdown",
      "metadata": {
        "id": "md6_n4woxgdQ"
      },
      "source": [
        "## Check Accuracy for Data Slices"
      ]
    },
    {
      "cell_type": "markdown",
      "metadata": {
        "id": "JndFQG56xhYD"
      },
      "source": [
        "For classification problems, you should always check the metrics by class to ensure your model predicts well across all classes. Check accuracy on the 10 classes by running the next cell by using the function `sklearn.metrics.classification_report` from the scikit-learn library. In the output, the rows with indices 0 to 9 correspond to the classes for the labels 0 to 9. The columns \"Precision\", \"Recall\", and \"[F1-Score](https://en.wikipedia.org/wiki/F1_score)\" correspond to the respective classification metrics for each class. \"Support\" is the number of examples for the class in question. For example, for the label \"4\", when predicting on 464 examples labelled \"4\", the model has a precision of 0.98, a recall of 0.97, and a F1 score of 0.98.\n",
        "\n",
        "The classification metrics are very uniform across all classes, which is perfect. In your classification problem, in case any metric is lower for a class, then you should investigate why the model has lower-quality predictions for that class."
      ]
    },
    {
      "cell_type": "code",
      "metadata": {
        "id": "YArLe5K8xjoE",
        "colab": {
          "base_uri": "https://localhost:8080/"
        },
        "outputId": "8f307736-1697-40ea-928e-fae306e1d901"
      },
      "source": [
        "from sklearn.metrics import classification_report\n",
        "mnistPred = model.predict_classes(x = mnistData)\n",
        "print(classification_report(mnistLabels, mnistPred))"
      ],
      "execution_count": 57,
      "outputs": [
        {
          "output_type": "stream",
          "name": "stdout",
          "text": [
            "              precision    recall  f1-score   support\n",
            "\n",
            "           0       0.99      1.00      0.99       499\n",
            "           1       0.98      0.99      0.98       571\n",
            "           2       0.98      0.98      0.98       504\n",
            "           3       0.99      0.98      0.98       487\n",
            "           4       0.97      0.97      0.97       464\n",
            "           5       0.99      0.98      0.98       434\n",
            "           6       0.99      0.99      0.99       491\n",
            "           7       0.99      0.96      0.97       550\n",
            "           8       0.98      0.98      0.98       485\n",
            "           9       0.95      0.97      0.96       515\n",
            "\n",
            "   micro avg       0.98      0.98      0.98      5000\n",
            "   macro avg       0.98      0.98      0.98      5000\n",
            "weighted avg       0.98      0.98      0.98      5000\n",
            "\n"
          ]
        }
      ]
    },
    {
      "cell_type": "markdown",
      "metadata": {
        "id": "XGaXjzW2ItTr"
      },
      "source": [
        "## Testing for Anomalous Values"
      ]
    },
    {
      "cell_type": "markdown",
      "metadata": {
        "id": "Rkl5SPIsI3Bb"
      },
      "source": [
        "In the section [Train a Linear Model](https://colab.corp.google.com/google_src/cloud/karangill/mlcc/google3/engedu/ml/capitalg/colab/testing_debugging_classification.ipynb#scrollTo=B6AOgLcC5nwp), you debugged an incorrect calculation of loss. Before running your model, if you wrote a test to validate the output values, your test would detect the anomalous output. For example, you could test whether the distribution of predicted labels on the training dataset is similar to the actual distribution of training labels. A simple statistical implementation of this concept is to compare the standard deviation and mean of the predicted and actual labels.\n",
        "\n",
        "First, check the standard deviation and mean of the actual labels."
      ]
    },
    {
      "cell_type": "code",
      "metadata": {
        "id": "F_WjpuqmZuAr",
        "colab": {
          "base_uri": "https://localhost:8080/"
        },
        "outputId": "70901bed-e186-484d-a3e4-a0f1cce2a051"
      },
      "source": [
        "print(\"Mean of actual labels: \" + str(np.mean(mnistLabels)))\n",
        "print(\"Standard deviation of actual labels: \" + str(np.std(mnistLabels)))"
      ],
      "execution_count": 58,
      "outputs": [
        {
          "output_type": "stream",
          "name": "stdout",
          "text": [
            "Mean of actual labels: 4.4754\n",
            "Standard deviation of actual labels: 2.9147546792140155\n"
          ]
        }
      ]
    },
    {
      "cell_type": "markdown",
      "metadata": {
        "id": "W30mjNZUv8Gx"
      },
      "source": [
        "Write tests to check if the mean and standard deviation of the predicted labels falls within the expected range. The expected range defined in the tests below is somewhat arbitrary. In practice, you will tune the range thresholds to accommodate natural variation in predictions."
      ]
    },
    {
      "cell_type": "code",
      "metadata": {
        "id": "P-XChYMVHFhn"
      },
      "source": [
        "class mlTest(unittest.TestCase): \n",
        "  '''Class to test statistics of predicted output on training data against\n",
        "     statistics of labels to validate that model predictions are in the]\n",
        "     expected range.\n",
        "  '''\n",
        "     \n",
        "  def testStd(self):\n",
        "    y = model.predict(mnistData)\n",
        "    yStd = np.std(y)\n",
        "    yStdActual = np.std(mnistLabels)\n",
        "    deltaStd = 0.05\n",
        "    errorMsg = 'Std. dev. of predicted values ' + str(yStd) + \\\n",
        "               ' and actual values ' + str(yStdActual) + \\\n",
        "               ' differs by >' + str(deltaStd) + '.'\n",
        "    self.assertAlmostEqual(yStd, yStdActual, delta=deltaStd, msg=errorMsg)\n",
        "\n",
        "  def testMean(self):\n",
        "    y = model.predict(mnistData)\n",
        "    yMean = np.mean(y)\n",
        "    yMeanActual = np.mean(mnistLabels)\n",
        "    deltaMean = 0.05\n",
        "    errorMsg = 'Mean of predicted values ' + str(yMean) + \\\n",
        "               ' and actual values ' + str(yMeanActual) + \\\n",
        "               ' differs by >' + str(deltaMean) + '.'\n",
        "    self.assertAlmostEqual(yMean, yMeanActual, delta=deltaMean, msg=errorMsg)"
      ],
      "execution_count": 59,
      "outputs": []
    },
    {
      "cell_type": "markdown",
      "metadata": {
        "id": "Prq5XYuAKE0y"
      },
      "source": [
        "Run the following cell to train a model with the wrong loss calculation and execute the tests. The tests should fail."
      ]
    },
    {
      "cell_type": "code",
      "metadata": {
        "id": "_51wIJhXKF68",
        "colab": {
          "base_uri": "https://localhost:8080/"
        },
        "outputId": "c2b767f6-0608-4108-c1cb-4b482ed11cde"
      },
      "source": [
        "#@title Train model and run tests\n",
        "\n",
        "model = None\n",
        "# Define\n",
        "model = keras.Sequential()\n",
        "model.add(keras.layers.Dense(mnistData.shape[1],\n",
        "                             activation='linear',\n",
        "                             input_dim=mnistData.shape[1]))\n",
        "model.add(keras.layers.Dense(1, activation='linear'))\n",
        "# Compile\n",
        "model.compile(optimizer=\"adam\", loss='mse', metrics=['accuracy'])\n",
        "# Train\n",
        "trainHistory = model.fit(mnistData, mnistLabels, epochs=10, batch_size=100,\n",
        "                         validation_split=0.1, verbose=0)\n",
        "\n",
        "suite = unittest.TestLoader().loadTestsFromTestCase(mlTest)\n",
        "unittest.TextTestRunner(verbosity=1, stream=sys.stderr).run(suite)"
      ],
      "execution_count": 60,
      "outputs": [
        {
          "output_type": "stream",
          "name": "stderr",
          "text": [
            "FF\n",
            "======================================================================\n",
            "FAIL: testMean (__main__.mlTest)\n",
            "----------------------------------------------------------------------\n",
            "Traceback (most recent call last):\n",
            "  File \"<ipython-input-59-f8aa3a0ebb02>\", line 21, in testMean\n",
            "    self.assertAlmostEqual(yMean, yMeanActual, delta=deltaMean, msg=errorMsg)\n",
            "AssertionError: Mean of predicted values 5.1531897 and actual values 4.4754 differs by >0.05.\n",
            "\n",
            "======================================================================\n",
            "FAIL: testStd (__main__.mlTest)\n",
            "----------------------------------------------------------------------\n",
            "Traceback (most recent call last):\n",
            "  File \"<ipython-input-59-f8aa3a0ebb02>\", line 13, in testStd\n",
            "    self.assertAlmostEqual(yStd, yStdActual, delta=deltaStd, msg=errorMsg)\n",
            "AssertionError: Std. dev. of predicted values 2.4419386 and actual values 2.9147546792140155 differs by >0.05.\n",
            "\n",
            "----------------------------------------------------------------------\n",
            "Ran 2 tests in 0.589s\n",
            "\n",
            "FAILED (failures=2)\n"
          ]
        },
        {
          "output_type": "execute_result",
          "data": {
            "text/plain": [
              "<unittest.runner.TextTestResult run=2 errors=0 failures=2>"
            ]
          },
          "metadata": {},
          "execution_count": 60
        }
      ]
    },
    {
      "cell_type": "markdown",
      "metadata": {
        "id": "LalmZjs7b0M5"
      },
      "source": [
        "Since the tests fail, check the data distribution of predicted labels for anomalies."
      ]
    },
    {
      "cell_type": "code",
      "metadata": {
        "id": "11S1Mh6VbtgT",
        "colab": {
          "base_uri": "https://localhost:8080/",
          "height": 320
        },
        "outputId": "d11c13d0-0249-4f23-af5c-f622a89cb67c"
      },
      "source": [
        "yPred = model.predict(mnistData)\n",
        "plt.hist(yPred, bins=range(11))"
      ],
      "execution_count": 61,
      "outputs": [
        {
          "output_type": "execute_result",
          "data": {
            "text/plain": [
              "(array([ 97., 426., 579., 622., 666., 687., 640., 547., 409., 219.]),\n",
              " array([ 0,  1,  2,  3,  4,  5,  6,  7,  8,  9, 10]),\n",
              " <a list of 10 Patch objects>)"
            ]
          },
          "metadata": {},
          "execution_count": 61
        },
        {
          "output_type": "display_data",
          "data": {
            "image/png": "[encoded data removed]",
            "text/plain": [
              "<Figure size 432x288 with 1 Axes>"
            ]
          },
          "metadata": {
            "needs_background": "light"
          }
        }
      ]
    },
    {
      "cell_type": "markdown",
      "metadata": {
        "id": "2vLmiLOob_zY"
      },
      "source": [
        "Given equally represented classes, the predicted labels are clearly skewed. From this plot, a possible explanation is that your loss calculation does not appear to be weighting all classes equally. This anomaly is a hint that your loss calculation is incorrect."
      ]
    },
    {
      "cell_type": "markdown",
      "metadata": {
        "id": "r2dShXOwTe0B"
      },
      "source": [
        "## Optional: Pass Tests by Fixing Loss Calculation"
      ]
    },
    {
      "cell_type": "markdown",
      "metadata": {
        "id": "K7UhxfMKTi_7"
      },
      "source": [
        "As an optional exercise, you can attempt to pass the tests by fixing the loss calculation. You will need to:\n",
        "1. Fix the loss calculation by setting the output layer's activation to `softmax`.\n",
        "1. Set the model's loss to `sparse_categorical_crossentropy`.\n",
        "1. Set the number of units in the output layer to 10 corresponding to the 10 classes.\n",
        "1. Adapt the tests to the modified output layer."
      ]
    },
    {
      "cell_type": "code",
      "metadata": {
        "id": "-Y40d127KFEN"
      },
      "source": [
        "class mlTest(unittest.TestCase): \n",
        "  '''Class to test statistics of predicted output on training data against\n",
        "     statistics of labels to validate that model predictions are in the]\n",
        "     expected range.\n",
        "  '''\n",
        "     \n",
        "  def testStd(self):\n",
        "    y = model.predict(mnistData)\n",
        "    yStd = np.std(y)\n",
        "    yStdActual = np.std(mnistLabels)\n",
        "    deltaStd = 0.05\n",
        "    errorMsg = 'Std. dev. of predicted values ' + str(yStd) + \\\n",
        "               ' and actual values ' + str(yStdActual) + \\\n",
        "               ' differs by >' + str(deltaStd) + '.'\n",
        "    self.assertAlmostEqual(yStd, yStdActual, delta=deltaStd, msg=errorMsg)\n",
        "\n",
        "  def testMean(self):\n",
        "    y = model.predict(mnistData)\n",
        "    yMean = np.mean(y)\n",
        "    yMeanActual = np.mean(mnistLabels)\n",
        "    deltaMean = 0.05\n",
        "    errorMsg = 'Mean of predicted values ' + str(yMean) + \\\n",
        "               ' and actual values ' + str(yMeanActual) + \\\n",
        "               ' differs by >' + str(deltaMean) + '.'\n",
        "    self.assertAlmostEqual(yMean, yMeanActual, delta=deltaMean, msg=errorMsg)"
      ],
      "execution_count": null,
      "outputs": []
    },
    {
      "cell_type": "code",
      "metadata": {
        "colab": {
          "base_uri": "https://localhost:8080/"
        },
        "id": "Z6bvqQqrJK_0",
        "outputId": "cf682eda-6a73-44e0-bf00-f7db014ecc24"
      },
      "source": [
        "#@title Train model and run tests\n",
        "\n",
        "model = None\n",
        "# Define\n",
        "model = keras.Sequential()\n",
        "model.add(keras.layers.Dense(mnistData.shape[1],\n",
        "                             activation='relu',\n",
        "                             input_dim=mnistData.shape[1]))\n",
        "model.add(keras.layers.Dropout(dropoutLambda,\n",
        "                               noise_shape=(1, mnistData.shape[1])))\n",
        "model.add(keras.layers.Dense(10, activation='softmax'))\n",
        "# Compile\n",
        "model.compile(optimizer=\"adam\", loss='sparse_categorical_crossentropy', metrics=['accuracy'])\n",
        "# Train\n",
        "trainHistory = model.fit(mnistData, mnistLabels, epochs=10, batch_size=100,\n",
        "                         validation_split=0.1, verbose=0)\n",
        "\n",
        "suite = unittest.TestLoader().loadTestsFromTestCase(mlTest)\n",
        "unittest.TextTestRunner(verbosity=1, stream=sys.stderr).run(suite)"
      ],
      "execution_count": 62,
      "outputs": [
        {
          "output_type": "stream",
          "name": "stderr",
          "text": [
            "FF\n",
            "======================================================================\n",
            "FAIL: testMean (__main__.mlTest)\n",
            "----------------------------------------------------------------------\n",
            "Traceback (most recent call last):\n",
            "  File \"<ipython-input-59-f8aa3a0ebb02>\", line 21, in testMean\n",
            "    self.assertAlmostEqual(yMean, yMeanActual, delta=deltaMean, msg=errorMsg)\n",
            "AssertionError: Mean of predicted values 0.1 and actual values 4.4754 differs by >0.05.\n",
            "\n",
            "======================================================================\n",
            "FAIL: testStd (__main__.mlTest)\n",
            "----------------------------------------------------------------------\n",
            "Traceback (most recent call last):\n",
            "  File \"<ipython-input-59-f8aa3a0ebb02>\", line 13, in testStd\n",
            "    self.assertAlmostEqual(yStd, yStdActual, delta=deltaStd, msg=errorMsg)\n",
            "AssertionError: Std. dev. of predicted values 0.28624246 and actual values 2.9147546792140155 differs by >0.05.\n",
            "\n",
            "----------------------------------------------------------------------\n",
            "Ran 2 tests in 0.574s\n",
            "\n",
            "FAILED (failures=2)\n"
          ]
        },
        {
          "output_type": "execute_result",
          "data": {
            "text/plain": [
              "<unittest.runner.TextTestResult run=2 errors=0 failures=2>"
            ]
          },
          "metadata": {},
          "execution_count": 62
        }
      ]
    },
    {
      "cell_type": "code",
      "metadata": {
        "colab": {
          "base_uri": "https://localhost:8080/",
          "height": 643
        },
        "id": "Yej_75j8J-Md",
        "outputId": "34083631-1a5c-4866-c221-7ce974bcdf70"
      },
      "source": [
        "yPred = model.predict(mnistData)\n",
        "plt.hist(yPred, bins=range(11))"
      ],
      "execution_count": 63,
      "outputs": [
        {
          "output_type": "execute_result",
          "data": {
            "text/plain": [
              "([array([4993.,    7.,    0.,    0.,    0.,    0.,    0.,    0.,    0.,\n",
              "            0.]),\n",
              "  array([5000.,    0.,    0.,    0.,    0.,    0.,    0.,    0.,    0.,\n",
              "            0.]),\n",
              "  array([5000.,    0.,    0.,    0.,    0.,    0.,    0.,    0.,    0.,\n",
              "            0.]),\n",
              "  array([5000.,    0.,    0.,    0.,    0.,    0.,    0.,    0.,    0.,\n",
              "            0.]),\n",
              "  array([5000.,    0.,    0.,    0.,    0.,    0.,    0.,    0.,    0.,\n",
              "            0.]),\n",
              "  array([5000.,    0.,    0.,    0.,    0.,    0.,    0.,    0.,    0.,\n",
              "            0.]),\n",
              "  array([5000.,    0.,    0.,    0.,    0.,    0.,    0.,    0.,    0.,\n",
              "            0.]),\n",
              "  array([5000.,    0.,    0.,    0.,    0.,    0.,    0.,    0.,    0.,\n",
              "            0.]),\n",
              "  array([5000.,    0.,    0.,    0.,    0.,    0.,    0.,    0.,    0.,\n",
              "            0.]),\n",
              "  array([5000.,    0.,    0.,    0.,    0.,    0.,    0.,    0.,    0.,\n",
              "            0.])],\n",
              " array([ 0,  1,  2,  3,  4,  5,  6,  7,  8,  9, 10]),\n",
              " <a list of 10 Lists of Patches objects>)"
            ]
          },
          "metadata": {},
          "execution_count": 63
        },
        {
          "output_type": "display_data",
          "data": {
            "image/png": "[encoded data removed]",
            "text/plain": [
              "<Figure size 432x288 with 1 Axes>"
            ]
          },
          "metadata": {
            "needs_background": "light"
          }
        }
      ]
    },
    {
      "cell_type": "markdown",
      "metadata": {
        "id": "W0lr3mzppHr1"
      },
      "source": [
        "## Conclusion\n",
        "\n",
        "The Colab demonstrated the following principles:\n",
        "\n",
        "* Calculate loss correctly for your problem.\n",
        "* Verify and unit test your engineered data.\n",
        "* Find the right model capacity through experimentation.\n",
        "* Find the best regularization through experimentation.\n",
        "* Check quality on data slices."
      ]
    }
  ]
}